{
  "nbformat": 4,
  "nbformat_minor": 0,
  "metadata": {
    "colab": {
      "name": "Copia de Copia de main.ipynb",
      "provenance": [],
      "collapsed_sections": [],
      "include_colab_link": true
    },
    "kernelspec": {
      "name": "python3",
      "display_name": "Python 3"
    },
    "language_info": {
      "name": "python"
    },
    "accelerator": "GPU",
    "widgets": {
      "application/vnd.jupyter.widget-state+json": {
        "d2aac1e5743040feb0efe0818fe5fb78": {
          "model_module": "@jupyter-widgets/controls",
          "model_name": "HBoxModel",
          "model_module_version": "1.5.0",
          "state": {
            "_dom_classes": [],
            "_model_module": "@jupyter-widgets/controls",
            "_model_module_version": "1.5.0",
            "_model_name": "HBoxModel",
            "_view_count": null,
            "_view_module": "@jupyter-widgets/controls",
            "_view_module_version": "1.5.0",
            "_view_name": "HBoxView",
            "box_style": "",
            "children": [
              "IPY_MODEL_9681016b7377480aa38e1bef49c51b75",
              "IPY_MODEL_8f78a128e6894cbcb9350dc109b55294",
              "IPY_MODEL_e9df7c0829384efb851d5f6d56730557"
            ],
            "layout": "IPY_MODEL_ea3b7350f5c44b5d98db07f5decfc96a"
          }
        },
        "9681016b7377480aa38e1bef49c51b75": {
          "model_module": "@jupyter-widgets/controls",
          "model_name": "HTMLModel",
          "model_module_version": "1.5.0",
          "state": {
            "_dom_classes": [],
            "_model_module": "@jupyter-widgets/controls",
            "_model_module_version": "1.5.0",
            "_model_name": "HTMLModel",
            "_view_count": null,
            "_view_module": "@jupyter-widgets/controls",
            "_view_module_version": "1.5.0",
            "_view_name": "HTMLView",
            "description": "",
            "description_tooltip": null,
            "layout": "IPY_MODEL_0c3cda86beaa4131b2089dbafcd344d2",
            "placeholder": "​",
            "style": "IPY_MODEL_57f4175fbef24067ac2e6a9c4a4ccc0a",
            "value": " 33%"
          }
        },
        "8f78a128e6894cbcb9350dc109b55294": {
          "model_module": "@jupyter-widgets/controls",
          "model_name": "FloatProgressModel",
          "model_module_version": "1.5.0",
          "state": {
            "_dom_classes": [],
            "_model_module": "@jupyter-widgets/controls",
            "_model_module_version": "1.5.0",
            "_model_name": "FloatProgressModel",
            "_view_count": null,
            "_view_module": "@jupyter-widgets/controls",
            "_view_module_version": "1.5.0",
            "_view_name": "ProgressView",
            "bar_style": "",
            "description": "",
            "description_tooltip": null,
            "layout": "IPY_MODEL_d00cc4b5f4ba49769d8b58e43336d001",
            "max": 15,
            "min": 0,
            "orientation": "horizontal",
            "style": "IPY_MODEL_4ebe5254439345d8816c18c1f71c8eab",
            "value": 5
          }
        },
        "e9df7c0829384efb851d5f6d56730557": {
          "model_module": "@jupyter-widgets/controls",
          "model_name": "HTMLModel",
          "model_module_version": "1.5.0",
          "state": {
            "_dom_classes": [],
            "_model_module": "@jupyter-widgets/controls",
            "_model_module_version": "1.5.0",
            "_model_name": "HTMLModel",
            "_view_count": null,
            "_view_module": "@jupyter-widgets/controls",
            "_view_module_version": "1.5.0",
            "_view_name": "HTMLView",
            "description": "",
            "description_tooltip": null,
            "layout": "IPY_MODEL_4a47caba05f84a749686e727af0f4a17",
            "placeholder": "​",
            "style": "IPY_MODEL_69b8461f3e1b4069bfc0afdc175c1a45",
            "value": " 5/15 [00:01&lt;00:02,  4.83ba/s]"
          }
        },
        "ea3b7350f5c44b5d98db07f5decfc96a": {
          "model_module": "@jupyter-widgets/base",
          "model_name": "LayoutModel",
          "model_module_version": "1.2.0",
          "state": {
            "_model_module": "@jupyter-widgets/base",
            "_model_module_version": "1.2.0",
            "_model_name": "LayoutModel",
            "_view_count": null,
            "_view_module": "@jupyter-widgets/base",
            "_view_module_version": "1.2.0",
            "_view_name": "LayoutView",
            "align_content": null,
            "align_items": null,
            "align_self": null,
            "border": null,
            "bottom": null,
            "display": null,
            "flex": null,
            "flex_flow": null,
            "grid_area": null,
            "grid_auto_columns": null,
            "grid_auto_flow": null,
            "grid_auto_rows": null,
            "grid_column": null,
            "grid_gap": null,
            "grid_row": null,
            "grid_template_areas": null,
            "grid_template_columns": null,
            "grid_template_rows": null,
            "height": null,
            "justify_content": null,
            "justify_items": null,
            "left": null,
            "margin": null,
            "max_height": null,
            "max_width": null,
            "min_height": null,
            "min_width": null,
            "object_fit": null,
            "object_position": null,
            "order": null,
            "overflow": null,
            "overflow_x": null,
            "overflow_y": null,
            "padding": null,
            "right": null,
            "top": null,
            "visibility": null,
            "width": null
          }
        },
        "0c3cda86beaa4131b2089dbafcd344d2": {
          "model_module": "@jupyter-widgets/base",
          "model_name": "LayoutModel",
          "model_module_version": "1.2.0",
          "state": {
            "_model_module": "@jupyter-widgets/base",
            "_model_module_version": "1.2.0",
            "_model_name": "LayoutModel",
            "_view_count": null,
            "_view_module": "@jupyter-widgets/base",
            "_view_module_version": "1.2.0",
            "_view_name": "LayoutView",
            "align_content": null,
            "align_items": null,
            "align_self": null,
            "border": null,
            "bottom": null,
            "display": null,
            "flex": null,
            "flex_flow": null,
            "grid_area": null,
            "grid_auto_columns": null,
            "grid_auto_flow": null,
            "grid_auto_rows": null,
            "grid_column": null,
            "grid_gap": null,
            "grid_row": null,
            "grid_template_areas": null,
            "grid_template_columns": null,
            "grid_template_rows": null,
            "height": null,
            "justify_content": null,
            "justify_items": null,
            "left": null,
            "margin": null,
            "max_height": null,
            "max_width": null,
            "min_height": null,
            "min_width": null,
            "object_fit": null,
            "object_position": null,
            "order": null,
            "overflow": null,
            "overflow_x": null,
            "overflow_y": null,
            "padding": null,
            "right": null,
            "top": null,
            "visibility": null,
            "width": null
          }
        },
        "57f4175fbef24067ac2e6a9c4a4ccc0a": {
          "model_module": "@jupyter-widgets/controls",
          "model_name": "DescriptionStyleModel",
          "model_module_version": "1.5.0",
          "state": {
            "_model_module": "@jupyter-widgets/controls",
            "_model_module_version": "1.5.0",
            "_model_name": "DescriptionStyleModel",
            "_view_count": null,
            "_view_module": "@jupyter-widgets/base",
            "_view_module_version": "1.2.0",
            "_view_name": "StyleView",
            "description_width": ""
          }
        },
        "d00cc4b5f4ba49769d8b58e43336d001": {
          "model_module": "@jupyter-widgets/base",
          "model_name": "LayoutModel",
          "model_module_version": "1.2.0",
          "state": {
            "_model_module": "@jupyter-widgets/base",
            "_model_module_version": "1.2.0",
            "_model_name": "LayoutModel",
            "_view_count": null,
            "_view_module": "@jupyter-widgets/base",
            "_view_module_version": "1.2.0",
            "_view_name": "LayoutView",
            "align_content": null,
            "align_items": null,
            "align_self": null,
            "border": null,
            "bottom": null,
            "display": null,
            "flex": null,
            "flex_flow": null,
            "grid_area": null,
            "grid_auto_columns": null,
            "grid_auto_flow": null,
            "grid_auto_rows": null,
            "grid_column": null,
            "grid_gap": null,
            "grid_row": null,
            "grid_template_areas": null,
            "grid_template_columns": null,
            "grid_template_rows": null,
            "height": null,
            "justify_content": null,
            "justify_items": null,
            "left": null,
            "margin": null,
            "max_height": null,
            "max_width": null,
            "min_height": null,
            "min_width": null,
            "object_fit": null,
            "object_position": null,
            "order": null,
            "overflow": null,
            "overflow_x": null,
            "overflow_y": null,
            "padding": null,
            "right": null,
            "top": null,
            "visibility": null,
            "width": null
          }
        },
        "4ebe5254439345d8816c18c1f71c8eab": {
          "model_module": "@jupyter-widgets/controls",
          "model_name": "ProgressStyleModel",
          "model_module_version": "1.5.0",
          "state": {
            "_model_module": "@jupyter-widgets/controls",
            "_model_module_version": "1.5.0",
            "_model_name": "ProgressStyleModel",
            "_view_count": null,
            "_view_module": "@jupyter-widgets/base",
            "_view_module_version": "1.2.0",
            "_view_name": "StyleView",
            "bar_color": null,
            "description_width": ""
          }
        },
        "4a47caba05f84a749686e727af0f4a17": {
          "model_module": "@jupyter-widgets/base",
          "model_name": "LayoutModel",
          "model_module_version": "1.2.0",
          "state": {
            "_model_module": "@jupyter-widgets/base",
            "_model_module_version": "1.2.0",
            "_model_name": "LayoutModel",
            "_view_count": null,
            "_view_module": "@jupyter-widgets/base",
            "_view_module_version": "1.2.0",
            "_view_name": "LayoutView",
            "align_content": null,
            "align_items": null,
            "align_self": null,
            "border": null,
            "bottom": null,
            "display": null,
            "flex": null,
            "flex_flow": null,
            "grid_area": null,
            "grid_auto_columns": null,
            "grid_auto_flow": null,
            "grid_auto_rows": null,
            "grid_column": null,
            "grid_gap": null,
            "grid_row": null,
            "grid_template_areas": null,
            "grid_template_columns": null,
            "grid_template_rows": null,
            "height": null,
            "justify_content": null,
            "justify_items": null,
            "left": null,
            "margin": null,
            "max_height": null,
            "max_width": null,
            "min_height": null,
            "min_width": null,
            "object_fit": null,
            "object_position": null,
            "order": null,
            "overflow": null,
            "overflow_x": null,
            "overflow_y": null,
            "padding": null,
            "right": null,
            "top": null,
            "visibility": null,
            "width": null
          }
        },
        "69b8461f3e1b4069bfc0afdc175c1a45": {
          "model_module": "@jupyter-widgets/controls",
          "model_name": "DescriptionStyleModel",
          "model_module_version": "1.5.0",
          "state": {
            "_model_module": "@jupyter-widgets/controls",
            "_model_module_version": "1.5.0",
            "_model_name": "DescriptionStyleModel",
            "_view_count": null,
            "_view_module": "@jupyter-widgets/base",
            "_view_module_version": "1.2.0",
            "_view_name": "StyleView",
            "description_width": ""
          }
        }
      }
    }
  },
  "cells": [
    {
      "cell_type": "markdown",
      "metadata": {
        "id": "view-in-github",
        "colab_type": "text"
      },
      "source": [
        "<a href=\"https://colab.research.google.com/github/Albmargar1/ClickbaitDetector/blob/main/main.ipynb\" target=\"_parent\"><img src=\"https://colab.research.google.com/assets/colab-badge.svg\" alt=\"Open In Colab\"/></a>"
      ]
    },
    {
      "cell_type": "markdown",
      "source": [
        "# <a name = 'Index'> </a> <font color='orange'> Índice </font>\n",
        "\n",
        "* [Notas iniciales](#NotasIniciales)\n",
        "* Instalación del entorno\n",
        "* [Pipeline](#Pipeline)\n",
        "* Análisis descriptivo de los datos\n",
        "* Pruebas, con input:\n",
        "  * 'postText' (Texto del tweet)\n",
        "    * Búsqueda de hiperparámetros en BERT\n",
        "    * Búsqueda de hiperparámetros en RoBERTa\n",
        "    * Búsqueda de hiperparámetros en XLN\n",
        "  * 'postText' (Texto del tweet) + 'targetKeywords'\n",
        "    * Búsqueda de hiperparámetros en BERT\n",
        "    * Búsqueda de hiperparámetros en RoBERTa\n",
        "    * Búsqueda de hiperparámetros en XLN\n",
        "  * 'postText' (Texto del tweet) + 'targetParagraphs'\n",
        "    * Búsqueda de hiperparámetros en Longformer\n",
        "* Evaluación del dataset para cada input y checkpoint correspondiente. \n",
        "  * Comparación con estado del arte\n",
        "* Análisis de errores"
      ],
      "metadata": {
        "id": "eSg944T3w4pG"
      }
    },
    {
      "cell_type": "markdown",
      "source": [
        ""
      ],
      "metadata": {
        "id": "ct1BrNhXcTBL"
      }
    },
    {
      "cell_type": "markdown",
      "source": [
        "# <a name=\"NotasIniciales\"> </a> <font color='orange'> Notas iniciales </font>\n",
        "\n",
        "* Cambiar métricas, aparecen uans de GLUE\n",
        "\n",
        "<font color='lightgreen'> Comentarios </font>\n",
        "* # NO EJECUTAR TODAS LAS CELDAS A LA VEZ\n",
        "* Este es el **archivo principal** donde se recogen todas las pruebas. **Cada prueba** posee una **configuración de parámetros difentes**, y llaman a una **única función** que recoge el pipeline global, controlando mediante flags qué funciones deben ejecutarse. Dichas funciones se encuentran todas en la carpeta 'utils'\n",
        "* El índice contiene enlaces a cada sección para una navegación más cómoda. \n",
        "\n",
        "<font color='lightgreen'> Referencias </font>\n",
        "\n",
        "* [BERT: Pre-training of Deep Bidirectional Transformers for\n",
        "Language Understanding](https://arxiv.org/pdf/1810.04805.pdf)\n",
        "\n",
        "Quiero mencionar dos proyectos que hacen un trabajo muy parecido. Aunque obtengo ideas de ellos, considero que no hay plagio. Dichos trabajos servirán como referencia para comparar el modelo aquí desarrollado.\n",
        "* [Click-BERT: Clickbait Detector with Bidirectional Encoder Representations\n",
        "from Transformers](https://github.com/PeterQiu0516/Click-BERT)\n",
        "* [BERT, XLNet or RoBERTa: The Best Transfer Learning Model to Detect\n",
        "Clickbaits](https://www.researchgate.net/publication/356276903_BERT_XLNet_or_RoBERTa_The_Best_Transfer_Learning_Model_to_Detect_Clickbaits)\n"
      ],
      "metadata": {
        "id": "7gKW0rtFV8kg"
      }
    },
    {
      "cell_type": "markdown",
      "source": [
        "# <font color='orange'> Parámetros </font>\n",
        "Por comodidad, los parámetros a ajustar se encuentran en la parte superior del cuaderno."
      ],
      "metadata": {
        "id": "IPBWMv7suN12"
      }
    },
    {
      "cell_type": "code",
      "source": [
        "default_config = {}\n",
        "\n",
        "# Directories\n",
        "default_config['train_dir'] = '/content/ClickbaitDetector/data/webis_train.csv'\n",
        "default_config['test_dir'] = '/content/ClickbaitDetector/data/webis_test.csv'\n",
        "\n",
        "# Descriptive analysis\n",
        "default_config['logger_transformers'] = 'error'\n",
        "\n",
        "# Dataset\n",
        "default_config['train_val_split'] = 0.15\n",
        "default_config['clip'] = [0.4,0.6]\n",
        "default_config['inputs'] = ['postText']\n",
        "\n",
        "# Hyperparameter search\n",
        "default_config['n_trials'] = 1\n",
        "\n",
        "default_config['hp'] = {'learning_rate': [2e-5, 2e-5], # Uniform sampling between min-max\n",
        "                        'epochs': [1,1], # Pick int between min-max\n",
        "                        'batch_size_train': [16]} # Pick one\n",
        "\n",
        "# Checkpoint\n",
        "default_config['checkpoint'] = 'bert-base-uncased'\n",
        "default_config['model_name'] = default_config['checkpoint'] + '-clickbait'\n",
        "default_config['finetuned_model_dir'] = './ClickbaitDetector/model/' + default_config['model_name'] \n",
        "default_config['cloud_dir'] = 'Stremie/'+default_config['model_name'] + '-best'"
      ],
      "metadata": {
        "id": "5yKljtWtuXMV"
      },
      "execution_count": 1,
      "outputs": []
    },
    {
      "cell_type": "markdown",
      "source": [
        "[Volver al índice](#Index)\n",
        "\n",
        "# <font color='orange'> Setup </font>\n",
        "Clonar el proyecto, instalar e importar dependencias. Puede durar varios minutos."
      ],
      "metadata": {
        "id": "P0j9DIrZvRU9"
      }
    },
    {
      "cell_type": "code",
      "execution_count": 2,
      "metadata": {
        "id": "R1GB2qnF50ZP",
        "collapsed": true,
        "colab": {
          "base_uri": "https://localhost:8080/"
        },
        "outputId": "81fabc3d-2e86-4748-d530-dda234edf18d"
      },
      "outputs": [
        {
          "output_type": "stream",
          "name": "stdout",
          "text": [
            "fatal: destination path 'ClickbaitDetector' already exists and is not an empty directory.\n"
          ]
        }
      ],
      "source": [
        "!git clone https://github.com/Albmargar1/ClickbaitDetector -q"
      ]
    },
    {
      "cell_type": "code",
      "source": [
        "!pip install -q transformers"
      ],
      "metadata": {
        "collapsed": true,
        "id": "c-4X21ai0-ZD"
      },
      "execution_count": 3,
      "outputs": []
    },
    {
      "cell_type": "code",
      "source": [
        "!pip install datasets -q folium==0.2.1 # Tengo que especificar la versión de folium o da error al instalar la librería de datasets de Hugging Face"
      ],
      "metadata": {
        "collapsed": true,
        "id": "C2Cx0ntf0-5z"
      },
      "execution_count": 4,
      "outputs": []
    },
    {
      "cell_type": "code",
      "source": [
        "!pip install optuna -q"
      ],
      "metadata": {
        "id": "3QnrN45yPRjV"
      },
      "execution_count": 5,
      "outputs": []
    },
    {
      "cell_type": "code",
      "source": [
        "import sys\n",
        "sys.path.append('/content/ClickbaitDetector/')\n",
        "\n",
        "import optuna\n",
        "from transformers import AutoTokenizer, DataCollatorWithPadding, AutoModelForSequenceClassification\n",
        "import datasets\n",
        "from datasets import load_metric\n",
        "import torch\n",
        "from torch.utils.data import DataLoader, SequentialSampler\n",
        "\n",
        "from utils import data_processing, descriptive_analysis\n",
        "from utils.Objective import Objective"
      ],
      "metadata": {
        "id": "q9jqAcUi3U9b",
        "cellView": "code"
      },
      "execution_count": 6,
      "outputs": []
    },
    {
      "cell_type": "markdown",
      "source": [
        "[Volver al índice](#Index)\n",
        "<a name='Pipeline'> </a>\n",
        "# <font color='orange'> Pipeline </font>"
      ],
      "metadata": {
        "id": "pT3YTftcrQ5B"
      }
    },
    {
      "cell_type": "code",
      "source": [
        "data = data_processing.process_file(default_config['train_dir'], default_config['inputs'])"
      ],
      "metadata": {
        "id": "9Z0K7m5hruSV"
      },
      "execution_count": 7,
      "outputs": []
    },
    {
      "cell_type": "code",
      "source": [
        "def do_descriptive_analysis(data):\n",
        "  descriptive_analysis.overall_info(data)\n",
        "  descriptive_analysis.study_std(data)\n",
        "  descriptive_analysis.probability_clickbait_per_tweet_count_words(data)\n",
        "  descriptive_analysis.given_word_check_probability_clickbait(data)"
      ],
      "metadata": {
        "id": "xQ_SlN7nVsge"
      },
      "execution_count": 8,
      "outputs": []
    },
    {
      "cell_type": "code",
      "source": [
        "def training(data, p):\n",
        "  tokenizer = AutoTokenizer.from_pretrained(p['checkpoint'])\n",
        "  data_collator = DataCollatorWithPadding(tokenizer=tokenizer)\n",
        "\n",
        "  data_dic_train = data_processing.to_Dataset(data,\n",
        "                                              clip=p['clip'],\n",
        "                                              split=True, \n",
        "                                              train_val_split = p['train_val_split'])\n",
        "\n",
        "  tokenized_dataset = data_processing.tokenize_dataset(data_dic_train, \n",
        "                                                      tokenizer)\n",
        "    \n",
        "  n_clickbaits_train = data_dic_train['train']['labels'].count(1)\n",
        "  n_noclickbaits_train = data_dic_train['train']['labels'].count(0)\n",
        "  prop_clickbait =  n_clickbaits_train / n_noclickbaits_train\n",
        "    \n",
        "  objective = Objective(p, tokenizer, data_collator, tokenized_dataset, prop_clickbait)\n",
        "  study = optuna.create_study(study_name=p['model_name'], direction='maximize') \n",
        "  study.optimize(objective, n_trials=p['n_trials'], callbacks=[objective.callback]) \n",
        "  objective.best_model.save_pretrained(p['finetuned_model_dir'])\n",
        "  tokenizer.save_pretrained(p['finetuned_model_dir'])"
      ],
      "metadata": {
        "id": "ijKnFF6IsYWs"
      },
      "execution_count": 9,
      "outputs": []
    },
    {
      "cell_type": "code",
      "source": [
        "def model_performance(data_dir,p,checkpoint):\n",
        "  tokenizer = AutoTokenizer.from_pretrained(checkpoint)\n",
        "  data_collator = DataCollatorWithPadding(tokenizer=tokenizer)\n",
        "\n",
        "  # model\n",
        "  model = AutoModelForSequenceClassification.from_pretrained(\n",
        "          checkpoint, num_labels=2, return_dict=True) #p['cloud_dir']\n",
        "  device = torch.device(\"cuda\") if torch.cuda.is_available() else torch.device(\"cpu\")\n",
        "  model.to(device)\n",
        "  model.eval()\n",
        "\n",
        "  # metric\n",
        "  metric = datasets.load_metric(\"glue\", \"mrpc\")\n",
        "\n",
        "  # load data\n",
        "  data_test = data_processing.process_file(p['test_dir'], p['inputs'])\n",
        "  data_dic_test = data_processing.to_Dataset(data_test,\n",
        "                                              split=False)\n",
        "\n",
        "  # tokenize\n",
        "  tokenized_test = data_processing.tokenize_dataset(data_dic_test, \n",
        "                                                         tokenizer)\n",
        "\n",
        "  tokenized_test = datasets.Dataset.from_dict({\n",
        "        'input_ids': tokenized_test['test']['input_ids'],\n",
        "        'token_type_ids': tokenized_test['test']['token_type_ids'],\n",
        "        'attention_mask': tokenized_test['test']['attention_mask'],\n",
        "        'labels': tokenized_test['test']['labels']})\n",
        "  tokenized_test.set_format(\"torch\")\n",
        "\n",
        "  # create loader    \n",
        "  test_loader = DataLoader(\n",
        "        tokenized_test, batch_size=32, collate_fn=data_collator)\n",
        "\n",
        "  # compute overall accuracy and F1-score\n",
        "  for batch in test_loader:\n",
        "    batch = {k: v.to(device) for k, v in batch.items()}\n",
        "    with torch.no_grad():\n",
        "      outputs = model(**batch)\n",
        "\n",
        "    logits = outputs.logits\n",
        "    predictions = torch.argmax(logits, dim=-1)\n",
        "    metric.add_batch(predictions=predictions, references=batch[\"labels\"])\n",
        "\n",
        "  results = metric.compute()\n",
        "  print(results)"
      ],
      "metadata": {
        "id": "lwhkgthKO_w9"
      },
      "execution_count": 10,
      "outputs": []
    },
    {
      "cell_type": "code",
      "source": [
        "training(data,default_config)"
      ],
      "metadata": {
        "colab": {
          "base_uri": "https://localhost:8080/",
          "height": 49,
          "referenced_widgets": [
            "d2aac1e5743040feb0efe0818fe5fb78",
            "9681016b7377480aa38e1bef49c51b75",
            "8f78a128e6894cbcb9350dc109b55294",
            "e9df7c0829384efb851d5f6d56730557",
            "ea3b7350f5c44b5d98db07f5decfc96a",
            "0c3cda86beaa4131b2089dbafcd344d2",
            "57f4175fbef24067ac2e6a9c4a4ccc0a",
            "d00cc4b5f4ba49769d8b58e43336d001",
            "4ebe5254439345d8816c18c1f71c8eab",
            "4a47caba05f84a749686e727af0f4a17",
            "69b8461f3e1b4069bfc0afdc175c1a45"
          ]
        },
        "id": "xxEugxnIvzGs",
        "outputId": "2d074219-5fca-4435-9815-1d6635150b6c"
      },
      "execution_count": null,
      "outputs": [
        {
          "output_type": "display_data",
          "data": {
            "text/plain": [
              "  0%|          | 0/15 [00:00<?, ?ba/s]"
            ],
            "application/vnd.jupyter.widget-view+json": {
              "version_major": 2,
              "version_minor": 0,
              "model_id": "d2aac1e5743040feb0efe0818fe5fb78"
            }
          },
          "metadata": {}
        }
      ]
    },
    {
      "cell_type": "markdown",
      "source": [
        "[Volver al índice](#Index)\n",
        "# <font color='orange'> Análisis descriptivo </font>\n",
        "Se realiza un análisis descriptivo básico, que incluye: \n",
        "\n",
        "*   Variabilidad de los anotadores\n",
        "*   Probabilidad de clickbait en función del número de palabras por tweet\n",
        "*   Probabilidad de que la palabra pertenezca a un clickbait\n"
      ],
      "metadata": {
        "id": "2M41qt0tZliB"
      }
    },
    {
      "cell_type": "code",
      "source": [
        "#descriptive_config = default_config\n",
        "#descriptive_config['do_descriptive_analysis'] = True\n",
        "\n",
        "#pipeline(p=descriptive_config)"
      ],
      "metadata": {
        "id": "2Ag_ldG7dWXR"
      },
      "execution_count": null,
      "outputs": []
    },
    {
      "cell_type": "markdown",
      "source": [
        "<font color='lightgreen'> Variabilidad de los anotadores </font>\n",
        "\n",
        "Resulta interesante observar la variación de las puntuaciones del conjunto de anotadores para cada tweet. Esto puede representarse como un diagrama de cajas de la desviación típica de las puntuaciones.\n",
        "\n",
        "A la vista de los datos, los anotadores no tienen un consenso muy definido entre sus valoraciones, lo cual podría resultar en confusiones a la hora de entrenar la red neuronal. \n",
        "\n",
        "Dado que los mayores valores de desviación típica implica que la correspondiente media está relativamente centrada (uno de los dos casos de mayor desviación típica sería el conjunto de puntuaciones [1, 1, 1, 0, 0], con media = 0.6 y desviación típica ~0.49), resulta relativamente seguro eliminar aquellos datos cuya media de las puntuaciones se encuentre cercana a 0.5.\n",
        "\n",
        "Esto además nos permite descartar tweets con conjuntos de puntuaciones no polarizados, por ejemplo [0.66, 0.66, 0.66, 0.33, 0.33]. Aunque dicho tweet se considere clickbait, el conjunto de los anotadores no tiene certeza de ello, y puede provocar errores de clasificación durante el entrenamiento.\n",
        "\n",
        "La cantidad de datos a descartar se tomará como un hiperparámetro. Esto puede perjudicar en que hay un menor número de datos que entrenar, por lo que no resulta obvio que vaya a mejorar el modelo. Por lo tanto, la cantidad de datos a descartar se tomará como un hiperparámetro.\n",
        "\n",
        "*Nota: Esta idea proviene de este proyecto: [Click-BERT: Clickbait Detector with Bidirectional Encoder Representations\n",
        "from Transformers](https://github.com/PeterQiu0516/Click-BERT/blob/main/Final-Report/EECS498NLP_Project_Final_Report.pdf)*, donde aseguran que mejoran las predicciones.\n",
        "\n"
      ],
      "metadata": {
        "id": "V13lMtm8wECC"
      }
    },
    {
      "cell_type": "markdown",
      "source": [
        "<font color='lightgreen'> Probabilidad de clickbait en función del número de palabras por tweet </font>\n",
        "\n",
        "A la vista de la gráfica, podemos observar que la mayoría de tweets con un número de palabras muy bajo suele ser clickbait, y dicha probabilidad tiende a reducirse generalizadamente conforme aumenta el número de palabras. "
      ],
      "metadata": {
        "id": "oyhlkPdmff7h"
      }
    },
    {
      "cell_type": "markdown",
      "source": [
        "<font color='lightgreen'> Probabilidad de que la palabra aparezca en un clickbait </font>\n",
        "\n",
        "Estos resultados no resultan muy reveladores, pero dan pequeñas pistas de qué se puede considerar legítimo y qué puede considerarse clickbait.\n",
        "\n",
        "Por ejemplo, entre las palabras que más aparecen en los tweets que son clickbaits aparecen apelativos al lector 'you'/'your', preguntas 'what'/'why' y adjetivos demostrativos 'this'/'these'. \n",
        "\n",
        "En el caso de tweets legítimos, parece que tiende a poseer palabras menos ambiguas, tales como 'u.s.'/'police'/'trump'/'president'.\n",
        "\n",
        "Igualmente hay clasificaciones extrañas. Por ejemplo, 'says' se ha catalogado como una palabra que se usa mucho en tweets legítimos, cuando es una palabra que puede recordar a un clickbait."
      ],
      "metadata": {
        "id": "nf470WCoxD5g"
      }
    },
    {
      "cell_type": "markdown",
      "source": [
        "# <font color='orange'> Otros </font>"
      ],
      "metadata": {
        "id": "z0X6DOuJnlLU"
      }
    },
    {
      "cell_type": "code",
      "source": [
        "!pip install huggingface_hub -q\n",
        "!sudo apt-get install git-lfs -q\n",
        "\n",
        "!huggingface-cli login\n",
        "\n",
        "from huggingface_hub import notebook_login\n",
        "notebook_login()"
      ],
      "metadata": {
        "id": "ykO0Ojc985fi"
      },
      "execution_count": null,
      "outputs": []
    },
    {
      "cell_type": "code",
      "source": [
        "def push_model_to_hub(dir, name):\n",
        "  model = AutoModelForSequenceClassification.from_pretrained(\n",
        "              dir, num_labels=2, return_dict=True)\n",
        "  tokenizer = AutoTokenizer.from_pretrained(dir)\n",
        "\n",
        "  model.push_to_hub(name, use_temp_dir=True)\n",
        "  tokenizer.push_to_hub(name, use_temp_dir=True)"
      ],
      "metadata": {
        "id": "8UPF4fYGu6AD"
      },
      "execution_count": null,
      "outputs": []
    }
  ]
}