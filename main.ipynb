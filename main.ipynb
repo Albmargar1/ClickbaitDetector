{
  "nbformat": 4,
  "nbformat_minor": 0,
  "metadata": {
    "colab": {
      "name": "main.ipynb",
      "provenance": [],
      "collapsed_sections": [],
      "authorship_tag": "ABX9TyPoQ6sZ+cpHNB05/X0Clluo",
      "include_colab_link": true
    },
    "kernelspec": {
      "name": "python3",
      "display_name": "Python 3"
    },
    "language_info": {
      "name": "python"
    }
  },
  "cells": [
    {
      "cell_type": "markdown",
      "metadata": {
        "id": "view-in-github",
        "colab_type": "text"
      },
      "source": [
        "<a href=\"https://colab.research.google.com/github/Albmargar1/ClickbaitDetector/blob/main/main.ipynb\" target=\"_parent\"><img src=\"https://colab.research.google.com/assets/colab-badge.svg\" alt=\"Open In Colab\"/></a>"
      ]
    },
    {
      "cell_type": "code",
      "execution_count": 11,
      "metadata": {
        "colab": {
          "base_uri": "https://localhost:8080/"
        },
        "id": "R1GB2qnF50ZP",
        "outputId": "6be1e9c5-8f70-4f40-cfba-7c099c5a8b5c"
      },
      "outputs": [
        {
          "output_type": "stream",
          "name": "stdout",
          "text": [
            "fatal: destination path 'ClickbaitDetector' already exists and is not an empty directory.\n"
          ]
        }
      ],
      "source": [
        "!git clone https://github.com/Albmargar1/ClickbaitDetector"
      ]
    },
    {
      "cell_type": "code",
      "source": [
        "import pandas as pd\n",
        "from collections import Counter\n",
        "import math\n",
        "import matplotlib.pyplot as plt\n",
        "import numpy as np"
      ],
      "metadata": {
        "id": "_3IBWgUjAbZs"
      },
      "execution_count": 12,
      "outputs": []
    },
    {
      "cell_type": "code",
      "source": [
        "class bcolors:\n",
        "    blue = '\\033[34m'\n",
        "    end = '\\033[0m'\n",
        "    bold = '\\033[1m'"
      ],
      "metadata": {
        "id": "dAty66czcisL"
      },
      "execution_count": 13,
      "outputs": []
    },
    {
      "cell_type": "code",
      "source": [
        "input_data = pd.read_csv('/content/ClickbaitDetector/data/webis_train.csv')\n",
        "print(input_data.columns)"
      ],
      "metadata": {
        "id": "erPQ6kiRAhIC",
        "colab": {
          "base_uri": "https://localhost:8080/"
        },
        "outputId": "3d39d241-726b-48d9-c8f8-9181714c4207"
      },
      "execution_count": 14,
      "outputs": [
        {
          "output_type": "stream",
          "name": "stdout",
          "text": [
            "Index(['Unnamed: 0', 'postMedia', 'postText', 'id', 'targetCaptions',\n",
            "       'targetParagraphs', 'targetTitle', 'postTimestamp', 'targetKeywords',\n",
            "       'targetDescription', 'truthJudgments', 'truthMean', 'truthClass',\n",
            "       'truthMedian', 'truthMode'],\n",
            "      dtype='object')\n"
          ]
        }
      ]
    },
    {
      "cell_type": "markdown",
      "source": [
        "Para este problema sólo voy a usar información referente a las columnas 'postText' y 'truthClass'. El resto de las columnas quedan descartadas por aportar información irrelevante o redundante a este problema. Dichas columnas incluyen información:\n",
        "\n",
        "*   Identificativa o temporal del tweet.\n",
        "*   Referente al artículo al que el tweet enlaza.\n",
        "*   Relativa al sistema de etiquetado del tweet como clickbait. \n",
        "\n"
      ],
      "metadata": {
        "id": "ewwncOpyFgWs"
      }
    },
    {
      "cell_type": "code",
      "source": [
        "train_df = input_data[['postText','truthClass']]"
      ],
      "metadata": {
        "id": "79jxucSiBa2E"
      },
      "execution_count": 15,
      "outputs": []
    },
    {
      "cell_type": "code",
      "source": [
        "train_df.info()\n",
        "print(bcolors.blue, \n",
        "      '\\n\\nValores nulos en postText:', \n",
        "      train_df['postText'].isna().sum(), \n",
        "      '\\nValores nulos en truthClass:', \n",
        "      train_df['truthClass'].isna().sum(), \n",
        "      bcolors.end)"
      ],
      "metadata": {
        "colab": {
          "base_uri": "https://localhost:8080/"
        },
        "id": "0aryG9r7YLUZ",
        "outputId": "c4d0bb83-c72d-4ce5-dc02-86f4d5747f1a"
      },
      "execution_count": 16,
      "outputs": [
        {
          "output_type": "stream",
          "name": "stdout",
          "text": [
            "<class 'pandas.core.frame.DataFrame'>\n",
            "RangeIndex: 19538 entries, 0 to 19537\n",
            "Data columns (total 2 columns):\n",
            " #   Column      Non-Null Count  Dtype \n",
            "---  ------      --------------  ----- \n",
            " 0   postText    19484 non-null  object\n",
            " 1   truthClass  19538 non-null  object\n",
            "dtypes: object(2)\n",
            "memory usage: 305.4+ KB\n",
            "\u001b[34m \n",
            "\n",
            "Valores nulos en postText: 54 \n",
            "Valores nulos en truthClass: 0 \u001b[0m\n"
          ]
        }
      ]
    },
    {
      "cell_type": "markdown",
      "source": [
        "Desechando las filas que incluyen valores nulos:"
      ],
      "metadata": {
        "id": "4HKPuM-MeEWR"
      }
    },
    {
      "cell_type": "code",
      "source": [
        "train_df = train_df.dropna().reset_index(drop=True)\n",
        "train_df.info()"
      ],
      "metadata": {
        "colab": {
          "base_uri": "https://localhost:8080/"
        },
        "id": "BK1WJlm6eIAq",
        "outputId": "d789abaa-db2c-4c1e-bcdd-3382a4d848c2"
      },
      "execution_count": 17,
      "outputs": [
        {
          "output_type": "stream",
          "name": "stdout",
          "text": [
            "<class 'pandas.core.frame.DataFrame'>\n",
            "RangeIndex: 19484 entries, 0 to 19483\n",
            "Data columns (total 2 columns):\n",
            " #   Column      Non-Null Count  Dtype \n",
            "---  ------      --------------  ----- \n",
            " 0   postText    19484 non-null  object\n",
            " 1   truthClass  19484 non-null  object\n",
            "dtypes: object(2)\n",
            "memory usage: 304.6+ KB\n"
          ]
        }
      ]
    },
    {
      "cell_type": "code",
      "source": [
        "legit_tweets = train_df[train_df['truthClass'] == 'no-clickbait']\n",
        "clickbait_tweets = train_df[train_df['truthClass'] == 'clickbait']\n",
        "\n",
        "legit_count = legit_tweets.shape[0]\n",
        "clickbait_count = clickbait_tweets.shape[0]\n",
        "bad_labeled_count = train_df.shape[0] - (legit_count + clickbait_count)\n",
        "clickbait_proportion = clickbait_count/(clickbait_count + legit_count+bad_labeled_count)\n",
        "\n",
        "print(bcolors.blue,\n",
        "      '\\nTweets legítimos:', legit_count, \n",
        "      '\\nTweets clickbait:', clickbait_count, \n",
        "      '\\nTweets mal etiquetados:', bad_labeled_count,\n",
        "      '\\nProporción tweets clickbait:', clickbait_proportion, \n",
        "      bcolors.end)"
      ],
      "metadata": {
        "colab": {
          "base_uri": "https://localhost:8080/"
        },
        "id": "eKRHh8W2J0yF",
        "outputId": "878ef376-c258-4f2b-d431-c2834b13e2c3"
      },
      "execution_count": 18,
      "outputs": [
        {
          "output_type": "stream",
          "name": "stdout",
          "text": [
            "\u001b[34m \n",
            "Tweets legítimos: 14768 \n",
            "Tweets clickbait: 4716 \n",
            "Tweets mal etiquetados: 0 \n",
            "Proporción tweets clickbait: 0.24204475467049888 \u001b[0m\n"
          ]
        }
      ]
    },
    {
      "cell_type": "markdown",
      "source": [
        "A continuación se realiza un estudio preliminar de qué tan probable es una palabra de aparecer en un tweet legítimo o clickbait, teniendo exclusivamente en cuenta la frecuencia de aparición en cada categoría. Se ha creado una máscara para limitar las palabras que se muestran, y que éstas sean frecuentes y dominantes en alguna de las dos categorías. "
      ],
      "metadata": {
        "id": "PKlj-wyOIT0-"
      }
    },
    {
      "cell_type": "code",
      "source": [
        "def build_frequency(dataframe, column_label):\n",
        "  counter = Counter()\n",
        "  dataframe[column_label].str.lower().str.split().apply(counter.update)\n",
        "  return counter\n",
        "\n",
        "def build_probabilities(counter, vocab):\n",
        "  counter_all_words_freq = sum(counter.values())\n",
        "  vocab_length = len(vocab)\n",
        "  prob = {k: (counter.get(k, 0) + 1) / (counter_all_words_freq + vocab_length) for k in vocab.keys()}\n",
        "\n",
        "  return prob\n",
        "\n",
        "vocab_freq = build_frequency(train_df, 'postText')\n",
        "legit_freq = build_frequency(legit_tweets, 'postText')\n",
        "clickbait_freq = build_frequency(clickbait_tweets, 'postText')\n",
        "  \n",
        "legit_word_prob = build_probabilities(legit_freq, vocab_freq)\n",
        "clickbait_word_prob = build_probabilities(clickbait_freq, vocab_freq)\n",
        "\n",
        "loglikelihood = {k: math.log(clickbait_word_prob.get(k) / legit_word_prob.get(k)) for k in vocab_freq.keys()}\n",
        "keys_list = [k for k in vocab_freq.keys()]\n",
        "word_loglikelihood_array = np.array([v for v in loglikelihood.values()])\n",
        "word_count_array = np.array([v for v in vocab_freq.values()])\n",
        "\n",
        "mask = (word_count_array > 180) & (abs(word_loglikelihood_array) > 1.0)\n",
        "mask_keys = {i: keys_list[i] for i in range(mask.shape[0]) if mask[i] == True}\n",
        "\n",
        "fig, ax = plt.subplots(figsize=(12,8))\n",
        "ax.scatter(word_loglikelihood_array[mask], word_count_array[mask])\n",
        "for k,v in mask_keys.items():\n",
        "  ax.annotate(v, (word_loglikelihood_array[k], word_count_array[k]))\n",
        "\n",
        "#ax.arrow(0, 1300, 0, 1, head_width = 0.2, head_length = 0.2, width = 0.05, head_starts_at_zero = True)"
      ],
      "metadata": {
        "colab": {
          "base_uri": "https://localhost:8080/",
          "height": 483
        },
        "id": "k3racbasfU78",
        "outputId": "56cf8b1c-92bc-4509-9816-f4719103e0c0"
      },
      "execution_count": 47,
      "outputs": [
        {
          "output_type": "display_data",
          "data": {
            "text/plain": [
              "<Figure size 864x576 with 1 Axes>"
            ],
            "image/png": "[encoded data removed]"
          },
          "metadata": {
            "needs_background": "light"
          }
        }
      ]
    },
    {
      "cell_type": "markdown",
      "source": [
        "Estos resultados no resultan muy reveladores, pero dan pequeñas pistas de qué se puede considerar legítimo y qué puede considerarse clickbait.\n",
        "\n",
        "Por ejemplo, entre las palabras que más aparecen en los tweets que son clickbaits aparecen apelativos al lector ('you'/'your'), preguntas ('what'/'why') y adjetivos demostrativos ('this'/'these'). \n",
        "\n",
        "En el caso de tweets legítimos, parece que tiende a poseer palabras menos ambiguas, tales como 'u.s.'/'police'/'trump'/'president'.\n",
        "\n",
        "Igualmente hay clasificaciones extrañas. Por ejemplo, 'says' está catalogada como una palabra que se usa mucho en tweets legítimos, cuando es una palabra que puede llevar a un clickbait."
      ],
      "metadata": {
        "id": "_DG-ix-r-k4g"
      }
    },
    {
      "cell_type": "code",
      "source": [
        "logprior = math.log(len(clickbait_tweets)) - math.log(len(legit_tweets))\n",
        "predicted_class = []\n",
        "for tweet in train_df['postText']:\n",
        "  p = logprior\n",
        "  tweet_list = tweet.lower().split()\n",
        "  for word in tweet_list:\n",
        "    p += loglikelihood[word]\n",
        "  if p > 0:\n",
        "    predicted_class.append('clickbait')\n",
        "  else:\n",
        "    predicted_class.append('no-clickbait')\n",
        "\n",
        "def build_metrics(predicted_label, true_label):\n",
        "  TP = 0\n",
        "  FP = 0\n",
        "  TN = 0 \n",
        "  FN = 0\n",
        "  for p, y in zip(predicted_label, true_label):\n",
        "    if p == 'clickbait' and y == 'clickbait':\n",
        "      TP += 1\n",
        "    elif p == 'clickbait' and y == 'no-clickbait':\n",
        "      FP += 1\n",
        "    elif p == 'no-clickbait' and y == 'clickbait':\n",
        "      FN += 1\n",
        "    elif p == 'no-clickbait' and y == 'no-clickbait':\n",
        "      TN += 1\n",
        "\n",
        "  metrics = {}\n",
        "  metrics['accuracy'] = (TP + TN) / (TP + TN + FP + FN)\n",
        "  metrics['precision'] = TP / (TP + FP)\n",
        "  metrics['recall'] = TP / (TP + FN)\n",
        "  metrics['specificity'] = TN / (TN + FP)\n",
        "  metrics['F1'] = 2 * (metrics['precision'] * metrics['recall']) / (metrics['precision'] + metrics['recall'])\n",
        "\n",
        "  return metrics\n",
        "\n",
        "metrics = build_metrics(predicted_class, list(train_df['truthClass']))\n",
        "\n",
        "print('accuracy =', metrics['accuracy'],\n",
        "      '\\nprecision =', metrics['precision'],\n",
        "      '\\nrecall =', metrics['recall'],\n",
        "      '\\nspecifity =', metrics['specificity'],\n",
        "      '\\nF1 =', metrics['F1'])"
      ],
      "metadata": {
        "id": "NjPmNtnZJDoE",
        "colab": {
          "base_uri": "https://localhost:8080/"
        },
        "outputId": "4c05aa1a-b911-47f0-fb7e-9502ade13c29"
      },
      "execution_count": 63,
      "outputs": [
        {
          "output_type": "stream",
          "name": "stdout",
          "text": [
            "accuracy = 0.9023814411825087 \n",
            "precision = 0.8272093023255814 \n",
            "recall = 0.7542408821034775 \n",
            "specifity = 0.9496885157096425 \n",
            "F1 = 0.7890417036379769\n"
          ]
        }
      ]
    },
    {
      "cell_type": "markdown",
      "source": [
        "El modelo de Naive Bayes posee un valor de F1-score de 0.789 a la hora de predecir si un tweet es clickbait. Este modelo estima mejor si un tweet es legítimo, dado su specifity de 0.950, ofreciendo por ello un accuracy global de 0.902. \n",
        "\n",
        "Este modelo es a lo mínimo que podemos aspirar, y sirve de comparativa respecto a los modelos Transformers."
      ],
      "metadata": {
        "id": "1lK6SeuII4n3"
      }
    }
  ]
}