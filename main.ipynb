{
  "nbformat": 4,
  "nbformat_minor": 0,
  "metadata": {
    "colab": {
      "name": "Copia de main.ipynb",
      "provenance": [],
      "collapsed_sections": [],
      "include_colab_link": true
    },
    "kernelspec": {
      "name": "python3",
      "display_name": "Python 3"
    },
    "language_info": {
      "name": "python"
    },
    "accelerator": "GPU",
    "widgets": {
      "application/vnd.jupyter.widget-state+json": {
        "8c0456b7664d46f398002757eb9252d7": {
          "model_module": "@jupyter-widgets/controls",
          "model_name": "HBoxModel",
          "model_module_version": "1.5.0",
          "state": {
            "_dom_classes": [],
            "_model_module": "@jupyter-widgets/controls",
            "_model_module_version": "1.5.0",
            "_model_name": "HBoxModel",
            "_view_count": null,
            "_view_module": "@jupyter-widgets/controls",
            "_view_module_version": "1.5.0",
            "_view_name": "HBoxView",
            "box_style": "",
            "children": [
              "IPY_MODEL_8358a0b6992a4e619e1b903d33205f3d",
              "IPY_MODEL_482a7588e98d4032b3115625c957c8f9",
              "IPY_MODEL_bb8b8b8ade034a658877595a1ea8f3a7"
            ],
            "layout": "IPY_MODEL_5b5782eba76c4b34984751579a5697dc"
          }
        },
        "8358a0b6992a4e619e1b903d33205f3d": {
          "model_module": "@jupyter-widgets/controls",
          "model_name": "HTMLModel",
          "model_module_version": "1.5.0",
          "state": {
            "_dom_classes": [],
            "_model_module": "@jupyter-widgets/controls",
            "_model_module_version": "1.5.0",
            "_model_name": "HTMLModel",
            "_view_count": null,
            "_view_module": "@jupyter-widgets/controls",
            "_view_module_version": "1.5.0",
            "_view_name": "HTMLView",
            "description": "",
            "description_tooltip": null,
            "layout": "IPY_MODEL_2dc874709d5c4f95950168a73efb6e09",
            "placeholder": "​",
            "style": "IPY_MODEL_b7e9b658d71d46109511f48b3cfba243",
            "value": "100%"
          }
        },
        "482a7588e98d4032b3115625c957c8f9": {
          "model_module": "@jupyter-widgets/controls",
          "model_name": "FloatProgressModel",
          "model_module_version": "1.5.0",
          "state": {
            "_dom_classes": [],
            "_model_module": "@jupyter-widgets/controls",
            "_model_module_version": "1.5.0",
            "_model_name": "FloatProgressModel",
            "_view_count": null,
            "_view_module": "@jupyter-widgets/controls",
            "_view_module_version": "1.5.0",
            "_view_name": "ProgressView",
            "bar_style": "success",
            "description": "",
            "description_tooltip": null,
            "layout": "IPY_MODEL_5fd15eca17e64ba7bd71e27b40c580f5",
            "max": 19,
            "min": 0,
            "orientation": "horizontal",
            "style": "IPY_MODEL_937fa759ed3946b289b52a176a5ec927",
            "value": 19
          }
        },
        "bb8b8b8ade034a658877595a1ea8f3a7": {
          "model_module": "@jupyter-widgets/controls",
          "model_name": "HTMLModel",
          "model_module_version": "1.5.0",
          "state": {
            "_dom_classes": [],
            "_model_module": "@jupyter-widgets/controls",
            "_model_module_version": "1.5.0",
            "_model_name": "HTMLModel",
            "_view_count": null,
            "_view_module": "@jupyter-widgets/controls",
            "_view_module_version": "1.5.0",
            "_view_name": "HTMLView",
            "description": "",
            "description_tooltip": null,
            "layout": "IPY_MODEL_be0be73d3bf34b5d9f672207e106a440",
            "placeholder": "​",
            "style": "IPY_MODEL_b967ffa07b1b4954aa24cc43947644eb",
            "value": " 19/19 [00:03&lt;00:00,  6.58ba/s]"
          }
        },
        "5b5782eba76c4b34984751579a5697dc": {
          "model_module": "@jupyter-widgets/base",
          "model_name": "LayoutModel",
          "model_module_version": "1.2.0",
          "state": {
            "_model_module": "@jupyter-widgets/base",
            "_model_module_version": "1.2.0",
            "_model_name": "LayoutModel",
            "_view_count": null,
            "_view_module": "@jupyter-widgets/base",
            "_view_module_version": "1.2.0",
            "_view_name": "LayoutView",
            "align_content": null,
            "align_items": null,
            "align_self": null,
            "border": null,
            "bottom": null,
            "display": null,
            "flex": null,
            "flex_flow": null,
            "grid_area": null,
            "grid_auto_columns": null,
            "grid_auto_flow": null,
            "grid_auto_rows": null,
            "grid_column": null,
            "grid_gap": null,
            "grid_row": null,
            "grid_template_areas": null,
            "grid_template_columns": null,
            "grid_template_rows": null,
            "height": null,
            "justify_content": null,
            "justify_items": null,
            "left": null,
            "margin": null,
            "max_height": null,
            "max_width": null,
            "min_height": null,
            "min_width": null,
            "object_fit": null,
            "object_position": null,
            "order": null,
            "overflow": null,
            "overflow_x": null,
            "overflow_y": null,
            "padding": null,
            "right": null,
            "top": null,
            "visibility": null,
            "width": null
          }
        },
        "2dc874709d5c4f95950168a73efb6e09": {
          "model_module": "@jupyter-widgets/base",
          "model_name": "LayoutModel",
          "model_module_version": "1.2.0",
          "state": {
            "_model_module": "@jupyter-widgets/base",
            "_model_module_version": "1.2.0",
            "_model_name": "LayoutModel",
            "_view_count": null,
            "_view_module": "@jupyter-widgets/base",
            "_view_module_version": "1.2.0",
            "_view_name": "LayoutView",
            "align_content": null,
            "align_items": null,
            "align_self": null,
            "border": null,
            "bottom": null,
            "display": null,
            "flex": null,
            "flex_flow": null,
            "grid_area": null,
            "grid_auto_columns": null,
            "grid_auto_flow": null,
            "grid_auto_rows": null,
            "grid_column": null,
            "grid_gap": null,
            "grid_row": null,
            "grid_template_areas": null,
            "grid_template_columns": null,
            "grid_template_rows": null,
            "height": null,
            "justify_content": null,
            "justify_items": null,
            "left": null,
            "margin": null,
            "max_height": null,
            "max_width": null,
            "min_height": null,
            "min_width": null,
            "object_fit": null,
            "object_position": null,
            "order": null,
            "overflow": null,
            "overflow_x": null,
            "overflow_y": null,
            "padding": null,
            "right": null,
            "top": null,
            "visibility": null,
            "width": null
          }
        },
        "b7e9b658d71d46109511f48b3cfba243": {
          "model_module": "@jupyter-widgets/controls",
          "model_name": "DescriptionStyleModel",
          "model_module_version": "1.5.0",
          "state": {
            "_model_module": "@jupyter-widgets/controls",
            "_model_module_version": "1.5.0",
            "_model_name": "DescriptionStyleModel",
            "_view_count": null,
            "_view_module": "@jupyter-widgets/base",
            "_view_module_version": "1.2.0",
            "_view_name": "StyleView",
            "description_width": ""
          }
        },
        "5fd15eca17e64ba7bd71e27b40c580f5": {
          "model_module": "@jupyter-widgets/base",
          "model_name": "LayoutModel",
          "model_module_version": "1.2.0",
          "state": {
            "_model_module": "@jupyter-widgets/base",
            "_model_module_version": "1.2.0",
            "_model_name": "LayoutModel",
            "_view_count": null,
            "_view_module": "@jupyter-widgets/base",
            "_view_module_version": "1.2.0",
            "_view_name": "LayoutView",
            "align_content": null,
            "align_items": null,
            "align_self": null,
            "border": null,
            "bottom": null,
            "display": null,
            "flex": null,
            "flex_flow": null,
            "grid_area": null,
            "grid_auto_columns": null,
            "grid_auto_flow": null,
            "grid_auto_rows": null,
            "grid_column": null,
            "grid_gap": null,
            "grid_row": null,
            "grid_template_areas": null,
            "grid_template_columns": null,
            "grid_template_rows": null,
            "height": null,
            "justify_content": null,
            "justify_items": null,
            "left": null,
            "margin": null,
            "max_height": null,
            "max_width": null,
            "min_height": null,
            "min_width": null,
            "object_fit": null,
            "object_position": null,
            "order": null,
            "overflow": null,
            "overflow_x": null,
            "overflow_y": null,
            "padding": null,
            "right": null,
            "top": null,
            "visibility": null,
            "width": null
          }
        },
        "937fa759ed3946b289b52a176a5ec927": {
          "model_module": "@jupyter-widgets/controls",
          "model_name": "ProgressStyleModel",
          "model_module_version": "1.5.0",
          "state": {
            "_model_module": "@jupyter-widgets/controls",
            "_model_module_version": "1.5.0",
            "_model_name": "ProgressStyleModel",
            "_view_count": null,
            "_view_module": "@jupyter-widgets/base",
            "_view_module_version": "1.2.0",
            "_view_name": "StyleView",
            "bar_color": null,
            "description_width": ""
          }
        },
        "be0be73d3bf34b5d9f672207e106a440": {
          "model_module": "@jupyter-widgets/base",
          "model_name": "LayoutModel",
          "model_module_version": "1.2.0",
          "state": {
            "_model_module": "@jupyter-widgets/base",
            "_model_module_version": "1.2.0",
            "_model_name": "LayoutModel",
            "_view_count": null,
            "_view_module": "@jupyter-widgets/base",
            "_view_module_version": "1.2.0",
            "_view_name": "LayoutView",
            "align_content": null,
            "align_items": null,
            "align_self": null,
            "border": null,
            "bottom": null,
            "display": null,
            "flex": null,
            "flex_flow": null,
            "grid_area": null,
            "grid_auto_columns": null,
            "grid_auto_flow": null,
            "grid_auto_rows": null,
            "grid_column": null,
            "grid_gap": null,
            "grid_row": null,
            "grid_template_areas": null,
            "grid_template_columns": null,
            "grid_template_rows": null,
            "height": null,
            "justify_content": null,
            "justify_items": null,
            "left": null,
            "margin": null,
            "max_height": null,
            "max_width": null,
            "min_height": null,
            "min_width": null,
            "object_fit": null,
            "object_position": null,
            "order": null,
            "overflow": null,
            "overflow_x": null,
            "overflow_y": null,
            "padding": null,
            "right": null,
            "top": null,
            "visibility": null,
            "width": null
          }
        },
        "b967ffa07b1b4954aa24cc43947644eb": {
          "model_module": "@jupyter-widgets/controls",
          "model_name": "DescriptionStyleModel",
          "model_module_version": "1.5.0",
          "state": {
            "_model_module": "@jupyter-widgets/controls",
            "_model_module_version": "1.5.0",
            "_model_name": "DescriptionStyleModel",
            "_view_count": null,
            "_view_module": "@jupyter-widgets/base",
            "_view_module_version": "1.2.0",
            "_view_name": "StyleView",
            "description_width": ""
          }
        },
        "3a3ea0cab30646c3aa00e413a0ab6c3d": {
          "model_module": "@jupyter-widgets/controls",
          "model_name": "HBoxModel",
          "model_module_version": "1.5.0",
          "state": {
            "_dom_classes": [],
            "_model_module": "@jupyter-widgets/controls",
            "_model_module_version": "1.5.0",
            "_model_name": "HBoxModel",
            "_view_count": null,
            "_view_module": "@jupyter-widgets/controls",
            "_view_module_version": "1.5.0",
            "_view_name": "HBoxView",
            "box_style": "",
            "children": [
              "IPY_MODEL_30248df991f54e04aae64f612ede519a",
              "IPY_MODEL_18be442040004268b29e9c83ea9292af",
              "IPY_MODEL_3b49e8a02b7e4d539dbd97602a663a14"
            ],
            "layout": "IPY_MODEL_4deefe70255b4c4f81febd042847c114"
          }
        },
        "30248df991f54e04aae64f612ede519a": {
          "model_module": "@jupyter-widgets/controls",
          "model_name": "HTMLModel",
          "model_module_version": "1.5.0",
          "state": {
            "_dom_classes": [],
            "_model_module": "@jupyter-widgets/controls",
            "_model_module_version": "1.5.0",
            "_model_name": "HTMLModel",
            "_view_count": null,
            "_view_module": "@jupyter-widgets/controls",
            "_view_module_version": "1.5.0",
            "_view_name": "HTMLView",
            "description": "",
            "description_tooltip": null,
            "layout": "IPY_MODEL_9166d75c9ac64cc383faf31a76ab0e83",
            "placeholder": "​",
            "style": "IPY_MODEL_95dd34ec2e4241b5b8983d564b4c307d",
            "value": "Downloading: 100%"
          }
        },
        "18be442040004268b29e9c83ea9292af": {
          "model_module": "@jupyter-widgets/controls",
          "model_name": "FloatProgressModel",
          "model_module_version": "1.5.0",
          "state": {
            "_dom_classes": [],
            "_model_module": "@jupyter-widgets/controls",
            "_model_module_version": "1.5.0",
            "_model_name": "FloatProgressModel",
            "_view_count": null,
            "_view_module": "@jupyter-widgets/controls",
            "_view_module_version": "1.5.0",
            "_view_name": "ProgressView",
            "bar_style": "success",
            "description": "",
            "description_tooltip": null,
            "layout": "IPY_MODEL_a419ba552296456c961714ded1198cbc",
            "max": 763,
            "min": 0,
            "orientation": "horizontal",
            "style": "IPY_MODEL_add434441b404cefbc55b5942940e252",
            "value": 763
          }
        },
        "3b49e8a02b7e4d539dbd97602a663a14": {
          "model_module": "@jupyter-widgets/controls",
          "model_name": "HTMLModel",
          "model_module_version": "1.5.0",
          "state": {
            "_dom_classes": [],
            "_model_module": "@jupyter-widgets/controls",
            "_model_module_version": "1.5.0",
            "_model_name": "HTMLModel",
            "_view_count": null,
            "_view_module": "@jupyter-widgets/controls",
            "_view_module_version": "1.5.0",
            "_view_name": "HTMLView",
            "description": "",
            "description_tooltip": null,
            "layout": "IPY_MODEL_65088cbabe754061b14258e747c63577",
            "placeholder": "​",
            "style": "IPY_MODEL_2e8abb16d6ff48a6ad11019688ced0d8",
            "value": " 763/763 [00:00&lt;00:00, 13.4kB/s]"
          }
        },
        "4deefe70255b4c4f81febd042847c114": {
          "model_module": "@jupyter-widgets/base",
          "model_name": "LayoutModel",
          "model_module_version": "1.2.0",
          "state": {
            "_model_module": "@jupyter-widgets/base",
            "_model_module_version": "1.2.0",
            "_model_name": "LayoutModel",
            "_view_count": null,
            "_view_module": "@jupyter-widgets/base",
            "_view_module_version": "1.2.0",
            "_view_name": "LayoutView",
            "align_content": null,
            "align_items": null,
            "align_self": null,
            "border": null,
            "bottom": null,
            "display": null,
            "flex": null,
            "flex_flow": null,
            "grid_area": null,
            "grid_auto_columns": null,
            "grid_auto_flow": null,
            "grid_auto_rows": null,
            "grid_column": null,
            "grid_gap": null,
            "grid_row": null,
            "grid_template_areas": null,
            "grid_template_columns": null,
            "grid_template_rows": null,
            "height": null,
            "justify_content": null,
            "justify_items": null,
            "left": null,
            "margin": null,
            "max_height": null,
            "max_width": null,
            "min_height": null,
            "min_width": null,
            "object_fit": null,
            "object_position": null,
            "order": null,
            "overflow": null,
            "overflow_x": null,
            "overflow_y": null,
            "padding": null,
            "right": null,
            "top": null,
            "visibility": null,
            "width": null
          }
        },
        "9166d75c9ac64cc383faf31a76ab0e83": {
          "model_module": "@jupyter-widgets/base",
          "model_name": "LayoutModel",
          "model_module_version": "1.2.0",
          "state": {
            "_model_module": "@jupyter-widgets/base",
            "_model_module_version": "1.2.0",
            "_model_name": "LayoutModel",
            "_view_count": null,
            "_view_module": "@jupyter-widgets/base",
            "_view_module_version": "1.2.0",
            "_view_name": "LayoutView",
            "align_content": null,
            "align_items": null,
            "align_self": null,
            "border": null,
            "bottom": null,
            "display": null,
            "flex": null,
            "flex_flow": null,
            "grid_area": null,
            "grid_auto_columns": null,
            "grid_auto_flow": null,
            "grid_auto_rows": null,
            "grid_column": null,
            "grid_gap": null,
            "grid_row": null,
            "grid_template_areas": null,
            "grid_template_columns": null,
            "grid_template_rows": null,
            "height": null,
            "justify_content": null,
            "justify_items": null,
            "left": null,
            "margin": null,
            "max_height": null,
            "max_width": null,
            "min_height": null,
            "min_width": null,
            "object_fit": null,
            "object_position": null,
            "order": null,
            "overflow": null,
            "overflow_x": null,
            "overflow_y": null,
            "padding": null,
            "right": null,
            "top": null,
            "visibility": null,
            "width": null
          }
        },
        "95dd34ec2e4241b5b8983d564b4c307d": {
          "model_module": "@jupyter-widgets/controls",
          "model_name": "DescriptionStyleModel",
          "model_module_version": "1.5.0",
          "state": {
            "_model_module": "@jupyter-widgets/controls",
            "_model_module_version": "1.5.0",
            "_model_name": "DescriptionStyleModel",
            "_view_count": null,
            "_view_module": "@jupyter-widgets/base",
            "_view_module_version": "1.2.0",
            "_view_name": "StyleView",
            "description_width": ""
          }
        },
        "a419ba552296456c961714ded1198cbc": {
          "model_module": "@jupyter-widgets/base",
          "model_name": "LayoutModel",
          "model_module_version": "1.2.0",
          "state": {
            "_model_module": "@jupyter-widgets/base",
            "_model_module_version": "1.2.0",
            "_model_name": "LayoutModel",
            "_view_count": null,
            "_view_module": "@jupyter-widgets/base",
            "_view_module_version": "1.2.0",
            "_view_name": "LayoutView",
            "align_content": null,
            "align_items": null,
            "align_self": null,
            "border": null,
            "bottom": null,
            "display": null,
            "flex": null,
            "flex_flow": null,
            "grid_area": null,
            "grid_auto_columns": null,
            "grid_auto_flow": null,
            "grid_auto_rows": null,
            "grid_column": null,
            "grid_gap": null,
            "grid_row": null,
            "grid_template_areas": null,
            "grid_template_columns": null,
            "grid_template_rows": null,
            "height": null,
            "justify_content": null,
            "justify_items": null,
            "left": null,
            "margin": null,
            "max_height": null,
            "max_width": null,
            "min_height": null,
            "min_width": null,
            "object_fit": null,
            "object_position": null,
            "order": null,
            "overflow": null,
            "overflow_x": null,
            "overflow_y": null,
            "padding": null,
            "right": null,
            "top": null,
            "visibility": null,
            "width": null
          }
        },
        "add434441b404cefbc55b5942940e252": {
          "model_module": "@jupyter-widgets/controls",
          "model_name": "ProgressStyleModel",
          "model_module_version": "1.5.0",
          "state": {
            "_model_module": "@jupyter-widgets/controls",
            "_model_module_version": "1.5.0",
            "_model_name": "ProgressStyleModel",
            "_view_count": null,
            "_view_module": "@jupyter-widgets/base",
            "_view_module_version": "1.2.0",
            "_view_name": "StyleView",
            "bar_color": null,
            "description_width": ""
          }
        },
        "65088cbabe754061b14258e747c63577": {
          "model_module": "@jupyter-widgets/base",
          "model_name": "LayoutModel",
          "model_module_version": "1.2.0",
          "state": {
            "_model_module": "@jupyter-widgets/base",
            "_model_module_version": "1.2.0",
            "_model_name": "LayoutModel",
            "_view_count": null,
            "_view_module": "@jupyter-widgets/base",
            "_view_module_version": "1.2.0",
            "_view_name": "LayoutView",
            "align_content": null,
            "align_items": null,
            "align_self": null,
            "border": null,
            "bottom": null,
            "display": null,
            "flex": null,
            "flex_flow": null,
            "grid_area": null,
            "grid_auto_columns": null,
            "grid_auto_flow": null,
            "grid_auto_rows": null,
            "grid_column": null,
            "grid_gap": null,
            "grid_row": null,
            "grid_template_areas": null,
            "grid_template_columns": null,
            "grid_template_rows": null,
            "height": null,
            "justify_content": null,
            "justify_items": null,
            "left": null,
            "margin": null,
            "max_height": null,
            "max_width": null,
            "min_height": null,
            "min_width": null,
            "object_fit": null,
            "object_position": null,
            "order": null,
            "overflow": null,
            "overflow_x": null,
            "overflow_y": null,
            "padding": null,
            "right": null,
            "top": null,
            "visibility": null,
            "width": null
          }
        },
        "2e8abb16d6ff48a6ad11019688ced0d8": {
          "model_module": "@jupyter-widgets/controls",
          "model_name": "DescriptionStyleModel",
          "model_module_version": "1.5.0",
          "state": {
            "_model_module": "@jupyter-widgets/controls",
            "_model_module_version": "1.5.0",
            "_model_name": "DescriptionStyleModel",
            "_view_count": null,
            "_view_module": "@jupyter-widgets/base",
            "_view_module_version": "1.2.0",
            "_view_name": "StyleView",
            "description_width": ""
          }
        },
        "7fbbe78dc8e5462f9fbc2c96ef377ee8": {
          "model_module": "@jupyter-widgets/controls",
          "model_name": "HBoxModel",
          "model_module_version": "1.5.0",
          "state": {
            "_dom_classes": [],
            "_model_module": "@jupyter-widgets/controls",
            "_model_module_version": "1.5.0",
            "_model_name": "HBoxModel",
            "_view_count": null,
            "_view_module": "@jupyter-widgets/controls",
            "_view_module_version": "1.5.0",
            "_view_name": "HBoxView",
            "box_style": "",
            "children": [
              "IPY_MODEL_2df5ef529dd7448a9aab9cf7dd1ddf52",
              "IPY_MODEL_c0b94e27678f4e6d9ca1def8d2de70ed",
              "IPY_MODEL_17688e67b8bd4e57bca657960ad5d8c8"
            ],
            "layout": "IPY_MODEL_54adf9bcc98a4e9dba18df096c5d4dbe"
          }
        },
        "2df5ef529dd7448a9aab9cf7dd1ddf52": {
          "model_module": "@jupyter-widgets/controls",
          "model_name": "HTMLModel",
          "model_module_version": "1.5.0",
          "state": {
            "_dom_classes": [],
            "_model_module": "@jupyter-widgets/controls",
            "_model_module_version": "1.5.0",
            "_model_name": "HTMLModel",
            "_view_count": null,
            "_view_module": "@jupyter-widgets/controls",
            "_view_module_version": "1.5.0",
            "_view_name": "HTMLView",
            "description": "",
            "description_tooltip": null,
            "layout": "IPY_MODEL_a16703cd13464c6d8ea68e6f9f78c22f",
            "placeholder": "​",
            "style": "IPY_MODEL_9eee6582368d46b19a774daef49a8ddf",
            "value": "Downloading: 100%"
          }
        },
        "c0b94e27678f4e6d9ca1def8d2de70ed": {
          "model_module": "@jupyter-widgets/controls",
          "model_name": "FloatProgressModel",
          "model_module_version": "1.5.0",
          "state": {
            "_dom_classes": [],
            "_model_module": "@jupyter-widgets/controls",
            "_model_module_version": "1.5.0",
            "_model_name": "FloatProgressModel",
            "_view_count": null,
            "_view_module": "@jupyter-widgets/controls",
            "_view_module_version": "1.5.0",
            "_view_name": "ProgressView",
            "bar_style": "success",
            "description": "",
            "description_tooltip": null,
            "layout": "IPY_MODEL_0d98a24b85124d9783b7523ae1d72407",
            "max": 438017325,
            "min": 0,
            "orientation": "horizontal",
            "style": "IPY_MODEL_3c874ec4548a4e39986c5f44e2148717",
            "value": 438017325
          }
        },
        "17688e67b8bd4e57bca657960ad5d8c8": {
          "model_module": "@jupyter-widgets/controls",
          "model_name": "HTMLModel",
          "model_module_version": "1.5.0",
          "state": {
            "_dom_classes": [],
            "_model_module": "@jupyter-widgets/controls",
            "_model_module_version": "1.5.0",
            "_model_name": "HTMLModel",
            "_view_count": null,
            "_view_module": "@jupyter-widgets/controls",
            "_view_module_version": "1.5.0",
            "_view_name": "HTMLView",
            "description": "",
            "description_tooltip": null,
            "layout": "IPY_MODEL_36154137147149158308ed2d6ca78cf8",
            "placeholder": "​",
            "style": "IPY_MODEL_708120b4519f4bf09474d6fa65136e29",
            "value": " 418M/418M [00:19&lt;00:00, 11.9MB/s]"
          }
        },
        "54adf9bcc98a4e9dba18df096c5d4dbe": {
          "model_module": "@jupyter-widgets/base",
          "model_name": "LayoutModel",
          "model_module_version": "1.2.0",
          "state": {
            "_model_module": "@jupyter-widgets/base",
            "_model_module_version": "1.2.0",
            "_model_name": "LayoutModel",
            "_view_count": null,
            "_view_module": "@jupyter-widgets/base",
            "_view_module_version": "1.2.0",
            "_view_name": "LayoutView",
            "align_content": null,
            "align_items": null,
            "align_self": null,
            "border": null,
            "bottom": null,
            "display": null,
            "flex": null,
            "flex_flow": null,
            "grid_area": null,
            "grid_auto_columns": null,
            "grid_auto_flow": null,
            "grid_auto_rows": null,
            "grid_column": null,
            "grid_gap": null,
            "grid_row": null,
            "grid_template_areas": null,
            "grid_template_columns": null,
            "grid_template_rows": null,
            "height": null,
            "justify_content": null,
            "justify_items": null,
            "left": null,
            "margin": null,
            "max_height": null,
            "max_width": null,
            "min_height": null,
            "min_width": null,
            "object_fit": null,
            "object_position": null,
            "order": null,
            "overflow": null,
            "overflow_x": null,
            "overflow_y": null,
            "padding": null,
            "right": null,
            "top": null,
            "visibility": null,
            "width": null
          }
        },
        "a16703cd13464c6d8ea68e6f9f78c22f": {
          "model_module": "@jupyter-widgets/base",
          "model_name": "LayoutModel",
          "model_module_version": "1.2.0",
          "state": {
            "_model_module": "@jupyter-widgets/base",
            "_model_module_version": "1.2.0",
            "_model_name": "LayoutModel",
            "_view_count": null,
            "_view_module": "@jupyter-widgets/base",
            "_view_module_version": "1.2.0",
            "_view_name": "LayoutView",
            "align_content": null,
            "align_items": null,
            "align_self": null,
            "border": null,
            "bottom": null,
            "display": null,
            "flex": null,
            "flex_flow": null,
            "grid_area": null,
            "grid_auto_columns": null,
            "grid_auto_flow": null,
            "grid_auto_rows": null,
            "grid_column": null,
            "grid_gap": null,
            "grid_row": null,
            "grid_template_areas": null,
            "grid_template_columns": null,
            "grid_template_rows": null,
            "height": null,
            "justify_content": null,
            "justify_items": null,
            "left": null,
            "margin": null,
            "max_height": null,
            "max_width": null,
            "min_height": null,
            "min_width": null,
            "object_fit": null,
            "object_position": null,
            "order": null,
            "overflow": null,
            "overflow_x": null,
            "overflow_y": null,
            "padding": null,
            "right": null,
            "top": null,
            "visibility": null,
            "width": null
          }
        },
        "9eee6582368d46b19a774daef49a8ddf": {
          "model_module": "@jupyter-widgets/controls",
          "model_name": "DescriptionStyleModel",
          "model_module_version": "1.5.0",
          "state": {
            "_model_module": "@jupyter-widgets/controls",
            "_model_module_version": "1.5.0",
            "_model_name": "DescriptionStyleModel",
            "_view_count": null,
            "_view_module": "@jupyter-widgets/base",
            "_view_module_version": "1.2.0",
            "_view_name": "StyleView",
            "description_width": ""
          }
        },
        "0d98a24b85124d9783b7523ae1d72407": {
          "model_module": "@jupyter-widgets/base",
          "model_name": "LayoutModel",
          "model_module_version": "1.2.0",
          "state": {
            "_model_module": "@jupyter-widgets/base",
            "_model_module_version": "1.2.0",
            "_model_name": "LayoutModel",
            "_view_count": null,
            "_view_module": "@jupyter-widgets/base",
            "_view_module_version": "1.2.0",
            "_view_name": "LayoutView",
            "align_content": null,
            "align_items": null,
            "align_self": null,
            "border": null,
            "bottom": null,
            "display": null,
            "flex": null,
            "flex_flow": null,
            "grid_area": null,
            "grid_auto_columns": null,
            "grid_auto_flow": null,
            "grid_auto_rows": null,
            "grid_column": null,
            "grid_gap": null,
            "grid_row": null,
            "grid_template_areas": null,
            "grid_template_columns": null,
            "grid_template_rows": null,
            "height": null,
            "justify_content": null,
            "justify_items": null,
            "left": null,
            "margin": null,
            "max_height": null,
            "max_width": null,
            "min_height": null,
            "min_width": null,
            "object_fit": null,
            "object_position": null,
            "order": null,
            "overflow": null,
            "overflow_x": null,
            "overflow_y": null,
            "padding": null,
            "right": null,
            "top": null,
            "visibility": null,
            "width": null
          }
        },
        "3c874ec4548a4e39986c5f44e2148717": {
          "model_module": "@jupyter-widgets/controls",
          "model_name": "ProgressStyleModel",
          "model_module_version": "1.5.0",
          "state": {
            "_model_module": "@jupyter-widgets/controls",
            "_model_module_version": "1.5.0",
            "_model_name": "ProgressStyleModel",
            "_view_count": null,
            "_view_module": "@jupyter-widgets/base",
            "_view_module_version": "1.2.0",
            "_view_name": "StyleView",
            "bar_color": null,
            "description_width": ""
          }
        },
        "36154137147149158308ed2d6ca78cf8": {
          "model_module": "@jupyter-widgets/base",
          "model_name": "LayoutModel",
          "model_module_version": "1.2.0",
          "state": {
            "_model_module": "@jupyter-widgets/base",
            "_model_module_version": "1.2.0",
            "_model_name": "LayoutModel",
            "_view_count": null,
            "_view_module": "@jupyter-widgets/base",
            "_view_module_version": "1.2.0",
            "_view_name": "LayoutView",
            "align_content": null,
            "align_items": null,
            "align_self": null,
            "border": null,
            "bottom": null,
            "display": null,
            "flex": null,
            "flex_flow": null,
            "grid_area": null,
            "grid_auto_columns": null,
            "grid_auto_flow": null,
            "grid_auto_rows": null,
            "grid_column": null,
            "grid_gap": null,
            "grid_row": null,
            "grid_template_areas": null,
            "grid_template_columns": null,
            "grid_template_rows": null,
            "height": null,
            "justify_content": null,
            "justify_items": null,
            "left": null,
            "margin": null,
            "max_height": null,
            "max_width": null,
            "min_height": null,
            "min_width": null,
            "object_fit": null,
            "object_position": null,
            "order": null,
            "overflow": null,
            "overflow_x": null,
            "overflow_y": null,
            "padding": null,
            "right": null,
            "top": null,
            "visibility": null,
            "width": null
          }
        },
        "708120b4519f4bf09474d6fa65136e29": {
          "model_module": "@jupyter-widgets/controls",
          "model_name": "DescriptionStyleModel",
          "model_module_version": "1.5.0",
          "state": {
            "_model_module": "@jupyter-widgets/controls",
            "_model_module_version": "1.5.0",
            "_model_name": "DescriptionStyleModel",
            "_view_count": null,
            "_view_module": "@jupyter-widgets/base",
            "_view_module_version": "1.2.0",
            "_view_name": "StyleView",
            "description_width": ""
          }
        }
      }
    }
  },
  "cells": [
    {
      "cell_type": "markdown",
      "metadata": {
        "id": "view-in-github",
        "colab_type": "text"
      },
      "source": [
        "<a href=\"https://colab.research.google.com/github/Albmargar1/ClickbaitDetector/blob/main/main.ipynb\" target=\"_parent\"><img src=\"https://colab.research.google.com/assets/colab-badge.svg\" alt=\"Open In Colab\"/></a>"
      ]
    },
    {
      "cell_type": "markdown",
      "source": [
        "# <a name = 'Index'> </a> <font color='orange'> Índice </font>\n",
        "\n",
        "* [Notas iniciales](#NotasIniciales)\n",
        "* Instalación del entorno\n",
        "* [Pipeline](#Pipeline)\n",
        "* Análisis descriptivo de los datos\n",
        "* Pruebas, con input:\n",
        "  * 'postText' (Texto del tweet)\n",
        "    * Búsqueda de hiperparámetros en BERT\n",
        "    * Búsqueda de hiperparámetros en RoBERTa\n",
        "    * Búsqueda de hiperparámetros en XLN\n",
        "  * 'postText' (Texto del tweet) + 'targetKeywords'\n",
        "    * Búsqueda de hiperparámetros en BERT\n",
        "    * Búsqueda de hiperparámetros en RoBERTa\n",
        "    * Búsqueda de hiperparámetros en XLN\n",
        "  * 'postText' (Texto del tweet) + 'targetParagraphs'\n",
        "    * Búsqueda de hiperparámetros en Longformer\n",
        "* Evaluación del dataset para cada input y checkpoint correspondiente. \n",
        "  * Comparación con estado del arte\n",
        "* Análisis de errores"
      ],
      "metadata": {
        "id": "eSg944T3w4pG"
      }
    },
    {
      "cell_type": "markdown",
      "source": [
        ""
      ],
      "metadata": {
        "id": "ct1BrNhXcTBL"
      }
    },
    {
      "cell_type": "markdown",
      "source": [
        "# <a name=\"NotasIniciales\"> </a> <font color='orange'> Notas iniciales </font>\n",
        "\n",
        "* Cambiar métricas, aparecen uans de GLUE\n",
        "\n",
        "<font color='lightgreen'> Comentarios </font>\n",
        "* # NO EJECUTAR TODAS LAS CELDAS A LA VEZ\n",
        "* Este es el **archivo principal** donde se recogen todas las pruebas. **Cada prueba** posee una **configuración de parámetros difentes**, y llaman a una **única función** que recoge el pipeline global, controlando mediante flags qué funciones deben ejecutarse. Dichas funciones se encuentran todas en la carpeta 'utils'\n",
        "* El índice contiene enlaces a cada sección para una navegación más cómoda. \n",
        "\n",
        "<font color='lightgreen'> Referencias </font>\n",
        "\n",
        "* [BERT: Pre-training of Deep Bidirectional Transformers for\n",
        "Language Understanding](https://arxiv.org/pdf/1810.04805.pdf)\n",
        "\n",
        "Quiero mencionar dos proyectos que hacen un trabajo muy parecido. Aunque obtengo ideas de ellos, considero que no hay plagio. Dichos trabajos servirán como referencia para comparar el modelo aquí desarrollado.\n",
        "* [Click-BERT: Clickbait Detector with Bidirectional Encoder Representations\n",
        "from Transformers](https://github.com/PeterQiu0516/Click-BERT)\n",
        "* [BERT, XLNet or RoBERTa: The Best Transfer Learning Model to Detect\n",
        "Clickbaits](https://www.researchgate.net/publication/356276903_BERT_XLNet_or_RoBERTa_The_Best_Transfer_Learning_Model_to_Detect_Clickbaits)\n"
      ],
      "metadata": {
        "id": "7gKW0rtFV8kg"
      }
    },
    {
      "cell_type": "markdown",
      "source": [
        "# <font color='orange'> Parámetros </font>\n",
        "Por comodidad, los parámetros a ajustar se encuentran en la parte superior del cuaderno."
      ],
      "metadata": {
        "id": "IPBWMv7suN12"
      }
    },
    {
      "cell_type": "code",
      "source": [
        "default_config = {}\n",
        "\n",
        "# Directories\n",
        "default_config['train_dir'] = '/content/ClickbaitDetector/data/webis_train.csv'\n",
        "default_config['test_dir'] = '/content/ClickbaitDetector/data/webis_test.csv'\n",
        "\n",
        "# Flags\n",
        "default_config['do_descriptive_analysis'] = False\n",
        "default_config['do_training'] = False\n",
        "default_config['do_evaluation_test'] = False\n",
        "\n",
        "# Descriptive analysis\n",
        "default_config['logger_transformers'] = 'error'\n",
        "\n",
        "# Dataset\n",
        "default_config['train_val_split'] = 0.15\n",
        "default_config['clip'] = [0.5,0.5]\n",
        "default_config['inputs'] = ['postText']\n",
        "\n",
        "# Training\n",
        "default_config['learning_rate'] = 1e-5\n",
        "default_config['batch_size'] = 8\n",
        "default_config['num_epochs'] = 2\n",
        "default_config['weight_decay'] = 1e-5\n",
        "\n",
        "# Hyperparameter search\n",
        "default_config['n_trials'] = 1\n",
        "\n",
        "default_config['hp'] = {'learning_rate': [2e-5, 5e-5], # Uniform sampling between min-max\n",
        "                        'epochs': [1,2], # Pick int between min-max\n",
        "                        'batch_size_train': [16, 32]} # Pick one\n",
        "\n",
        "# Checkpoint\n",
        "default_config['checkpoint'] = 'bert-base-uncased'\n",
        "default_config['model_name'] = default_config['checkpoint'] + '-clickbait'\n",
        "default_config['finetuned_model_dir'] = './ClickbaitDetector/model/' + default_config['model_name'] \n",
        "default_config['cloud_dir'] = 'Stremie/'+default_config['model_name'] + '-best'"
      ],
      "metadata": {
        "id": "5yKljtWtuXMV"
      },
      "execution_count": 15,
      "outputs": []
    },
    {
      "cell_type": "markdown",
      "source": [
        "[Volver al índice](#Index)\n",
        "\n",
        "# <font color='orange'> Setup </font>\n",
        "Clonar el proyecto, instalar e importar dependencias. Puede durar varios minutos."
      ],
      "metadata": {
        "id": "P0j9DIrZvRU9"
      }
    },
    {
      "cell_type": "code",
      "execution_count": 4,
      "metadata": {
        "id": "R1GB2qnF50ZP",
        "collapsed": true,
        "colab": {
          "base_uri": "https://localhost:8080/"
        },
        "outputId": "6ed7692c-90c7-4c88-8bd2-824ac2cea438"
      },
      "outputs": [
        {
          "output_type": "stream",
          "name": "stdout",
          "text": [
            "fatal: destination path 'ClickbaitDetector' already exists and is not an empty directory.\n"
          ]
        }
      ],
      "source": [
        "!git clone https://github.com/Albmargar1/ClickbaitDetector -q"
      ]
    },
    {
      "cell_type": "code",
      "source": [
        "!pip install -q transformers"
      ],
      "metadata": {
        "collapsed": true,
        "id": "c-4X21ai0-ZD"
      },
      "execution_count": 5,
      "outputs": []
    },
    {
      "cell_type": "code",
      "source": [
        "!pip install datasets -q folium==0.2.1 # Tengo que especificar la versión de folium o da error al instalar la librería de datasets de Hugging Face"
      ],
      "metadata": {
        "collapsed": true,
        "id": "C2Cx0ntf0-5z"
      },
      "execution_count": 6,
      "outputs": []
    },
    {
      "cell_type": "code",
      "source": [
        "!pip install optuna -q"
      ],
      "metadata": {
        "id": "3QnrN45yPRjV"
      },
      "execution_count": 7,
      "outputs": []
    },
    {
      "cell_type": "code",
      "source": [
        "import sys\n",
        "sys.path.append('/content/ClickbaitDetector/')\n",
        "\n",
        "import optuna\n",
        "from transformers import AutoTokenizer, DataCollatorWithPadding, AutoModelForSequenceClassification\n",
        "import datasets\n",
        "from datasets import load_metric\n",
        "import torch\n",
        "from torch.utils.data import DataLoader, SequentialSampler\n",
        "\n",
        "from utils import data_processing, descriptive_analysis\n",
        "from utils.Objective import Objective"
      ],
      "metadata": {
        "id": "q9jqAcUi3U9b",
        "cellView": "code"
      },
      "execution_count": 8,
      "outputs": []
    },
    {
      "cell_type": "markdown",
      "source": [
        "[Volver al índice](#Index)\n",
        "<a name='Pipeline'> </a>\n",
        "# <font color='orange'> Pipeline </font>"
      ],
      "metadata": {
        "id": "pT3YTftcrQ5B"
      }
    },
    {
      "cell_type": "code",
      "source": [
        "def pre_descriptive_analysis(dir, p):\n",
        "  data = data_processing.process_file(dir, p['inputs'])\n",
        "\n",
        "  descriptive_analysis.overall_info(data)\n",
        "  descriptive_analysis.study_std(data)\n",
        "  descriptive_analysis.probability_clickbait_per_tweet_count_words(data)\n",
        "  descriptive_analysis.given_word_check_probability_clickbait(data)\n",
        "\n",
        "pre_descriptive_analysis(default_config['train_dir'], p)"
      ],
      "metadata": {
        "id": "xQ_SlN7nVsge",
        "outputId": "2b745003-cc00-4dfc-b58f-4e7f19e13c84",
        "colab": {
          "base_uri": "https://localhost:8080/",
          "height": 1000
        }
      },
      "execution_count": 20,
      "outputs": [
        {
          "output_type": "stream",
          "name": "stdout",
          "text": [
            "\u001b[34m \n",
            "\n",
            "Tweets legítimos: 14777 \n",
            "Tweets clickbait: 4761 \n",
            "Tweets mal etiquetados: 0 \n",
            "Proporción tweets clickbait: 0.24367898454294196 \u001b[0m\n",
            "\n",
            "\n",
            "\n"
          ]
        },
        {
          "output_type": "display_data",
          "data": {
            "text/plain": [
              "<Figure size 288x576 with 1 Axes>"
            ],
            "image/png": "[encoded data removed]"
          },
          "metadata": {
            "needs_background": "light"
          }
        },
        {
          "output_type": "stream",
          "name": "stdout",
          "text": [
            "\n",
            "\n",
            "\n"
          ]
        },
        {
          "output_type": "display_data",
          "data": {
            "text/plain": [
              "<Figure size 864x576 with 2 Axes>"
            ],
            "image/png": "[encoded data removed]"
          },
          "metadata": {
            "needs_background": "light"
          }
        },
        {
          "output_type": "stream",
          "name": "stdout",
          "text": [
            "\n",
            "\n",
            "\n"
          ]
        },
        {
          "output_type": "display_data",
          "data": {
            "text/plain": [
              "<Figure size 864x576 with 1 Axes>"
            ],
            "image/png": "[encoded data removed]"
          },
          "metadata": {
            "needs_background": "light"
          }
        }
      ]
    },
    {
      "cell_type": "code",
      "source": [
        "config = default_config\n",
        "config['do_training'] = False\n",
        "config['do_evaluation_test'] = True\n",
        "\n",
        "p = config \n",
        "\n",
        "data_train = data_processing.process_file(p['train_dir'], p['inputs'])\n",
        "\n",
        "if p['do_descriptive_analysis']:\n",
        "  descriptive_analysis.overall_info(data_train)\n",
        "  descriptive_analysis.study_std(data_train)\n",
        "  descriptive_analysis.probability_clickbait_per_words_clickbait(data_train)\n",
        "  descriptive_analysis.given_word_check_probability_clickbait(data_train)\n",
        "\n",
        "else:\n",
        "  tokenizer = AutoTokenizer.from_pretrained(p['checkpoint'])\n",
        "  data_collator = DataCollatorWithPadding(tokenizer=tokenizer)\n",
        "\n",
        "  if p['do_training']:\n",
        "    data_dic_train = data_processing.to_Dataset(data_train,\n",
        "                                                clip=p['clip'],\n",
        "                                                split=True, \n",
        "                                                train_val_split = p['train_val_split'])\n",
        "\n",
        "    tokenized_dataset = data_processing.tokenize_dataset(data_dic_train, \n",
        "                                                        tokenizer)\n",
        "    \n",
        "    # Parameter to weight cross entropy loss function according to data proportion.\n",
        "    n_clickbaits_train = data_dic_train['train']['labels'].count(1)\n",
        "    n_noclickbaits_train = data_dic_train['train']['labels'].count(0)\n",
        "    prop_clickbait =  n_clickbaits_train / n_noclickbaits_train\n",
        "    \n",
        "    objective = Objective(p, tokenizer, data_collator, tokenized_dataset, prop_clickbait)\n",
        "    study = optuna.create_study(study_name=p['model_name'], direction='maximize') \n",
        "    study.optimize(objective, n_trials=p['n_trials'], callbacks=[objective.callback]) \n",
        "    objective.best_model.save_pretrained(p['finetuned_model_dir'])\n",
        "\n",
        "  if p['do_evaluation_test']:\n",
        "    # model\n",
        "    model = AutoModelForSequenceClassification.from_pretrained(\n",
        "            'Stremie/test', num_labels=2, return_dict=True) #p['cloud_dir']\n",
        "    device = torch.device(\"cuda\") if torch.cuda.is_available() else torch.device(\"cpu\")\n",
        "    model.to(device)\n",
        "    model.eval()\n",
        "\n",
        "    # metric\n",
        "    metric = load_metric(\"glue\", \"mrpc\")\n",
        "\n",
        "    # load data\n",
        "    data_test = data_processing.process_file(p['test_dir'], p['inputs'])\n",
        "    data_dic_test = data_processing.to_Dataset(data_test,\n",
        "                                              split=False)\n",
        "\n",
        "    # tokenize\n",
        "    tokenized_test = data_processing.tokenize_dataset(data_dic_test, \n",
        "                                                         tokenizer)\n",
        "\n",
        "    tokenized_test = datasets.Dataset.from_dict({\n",
        "        'input_ids': tokenized_test['train']['input_ids'],\n",
        "        'token_type_ids': tokenized_test['train']['token_type_ids'],\n",
        "        'attention_mask': tokenized_test['train']['attention_mask'],\n",
        "        'labels': tokenized_test['train']['labels']}).set_format(\"torch\")\n",
        "\n",
        "    # create loader    \n",
        "    test_loader = DataLoader(\n",
        "        tokenized_test, batch_size=32, collate_fn=data_collator)\n",
        "\n",
        "    # compute overall accuracy and F1-score\n",
        "    for batch in test_loader:\n",
        "        batch = {k: v.to(device) for k, v in batch.items()}\n",
        "        with torch.no_grad():\n",
        "            outputs = model(**batch)\n",
        "\n",
        "        logits = outputs.logits\n",
        "        predictions = torch.argmax(logits, dim=-1)\n",
        "        metric.add_batch(predictions=predictions, references=batch[\"labels\"])\n",
        "\n",
        "    results = metric.compute()\n",
        "    print(results)"
      ],
      "metadata": {
        "id": "lwhkgthKO_w9",
        "outputId": "0cfd7e5e-6aed-4b82-97c7-1dbbaa4bced5",
        "colab": {
          "base_uri": "https://localhost:8080/",
          "height": 130,
          "referenced_widgets": [
            "8c0456b7664d46f398002757eb9252d7",
            "8358a0b6992a4e619e1b903d33205f3d",
            "482a7588e98d4032b3115625c957c8f9",
            "bb8b8b8ade034a658877595a1ea8f3a7",
            "5b5782eba76c4b34984751579a5697dc",
            "2dc874709d5c4f95950168a73efb6e09",
            "b7e9b658d71d46109511f48b3cfba243",
            "5fd15eca17e64ba7bd71e27b40c580f5",
            "937fa759ed3946b289b52a176a5ec927",
            "be0be73d3bf34b5d9f672207e106a440",
            "b967ffa07b1b4954aa24cc43947644eb",
            "3a3ea0cab30646c3aa00e413a0ab6c3d",
            "30248df991f54e04aae64f612ede519a",
            "18be442040004268b29e9c83ea9292af",
            "3b49e8a02b7e4d539dbd97602a663a14",
            "4deefe70255b4c4f81febd042847c114",
            "9166d75c9ac64cc383faf31a76ab0e83",
            "95dd34ec2e4241b5b8983d564b4c307d",
            "a419ba552296456c961714ded1198cbc",
            "add434441b404cefbc55b5942940e252",
            "65088cbabe754061b14258e747c63577",
            "2e8abb16d6ff48a6ad11019688ced0d8",
            "7fbbe78dc8e5462f9fbc2c96ef377ee8",
            "2df5ef529dd7448a9aab9cf7dd1ddf52",
            "c0b94e27678f4e6d9ca1def8d2de70ed",
            "17688e67b8bd4e57bca657960ad5d8c8",
            "54adf9bcc98a4e9dba18df096c5d4dbe",
            "a16703cd13464c6d8ea68e6f9f78c22f",
            "9eee6582368d46b19a774daef49a8ddf",
            "0d98a24b85124d9783b7523ae1d72407",
            "3c874ec4548a4e39986c5f44e2148717",
            "36154137147149158308ed2d6ca78cf8",
            "708120b4519f4bf09474d6fa65136e29"
          ]
        }
      },
      "execution_count": 13,
      "outputs": [
        {
          "output_type": "display_data",
          "data": {
            "text/plain": [
              "  0%|          | 0/19 [00:00<?, ?ba/s]"
            ],
            "application/vnd.jupyter.widget-view+json": {
              "version_major": 2,
              "version_minor": 0,
              "model_id": "8c0456b7664d46f398002757eb9252d7"
            }
          },
          "metadata": {}
        },
        {
          "output_type": "display_data",
          "data": {
            "text/plain": [
              "Downloading:   0%|          | 0.00/763 [00:00<?, ?B/s]"
            ],
            "application/vnd.jupyter.widget-view+json": {
              "version_major": 2,
              "version_minor": 0,
              "model_id": "3a3ea0cab30646c3aa00e413a0ab6c3d"
            }
          },
          "metadata": {}
        },
        {
          "output_type": "display_data",
          "data": {
            "text/plain": [
              "Downloading:   0%|          | 0.00/418M [00:00<?, ?B/s]"
            ],
            "application/vnd.jupyter.widget-view+json": {
              "version_major": 2,
              "version_minor": 0,
              "model_id": "7fbbe78dc8e5462f9fbc2c96ef377ee8"
            }
          },
          "metadata": {}
        },
        {
          "output_type": "stream",
          "name": "stdout",
          "text": [
            "{'accuracy': 0.8524685178355024, 'f1': 0.7285769678169832}\n"
          ]
        }
      ]
    },
    {
      "cell_type": "code",
      "source": [
        "# Para guardar modelos en la nube\n",
        "!pip install huggingface_hub -q\n",
        "!sudo apt-get install git-lfs -q\n",
        "\n",
        "!huggingface-cli login\n",
        "\n",
        "from huggingface_hub import notebook_login\n",
        "notebook_login()\n",
        "\n",
        "model = AutoModelForSequenceClassification.from_pretrained(\n",
        "            p['finetuned_model_dir'], num_labels=2, return_dict=True)\n",
        "\n",
        "model.push_to_hub(str(default_config['model_name'] + '-best'), use_temp_dir=True)\n",
        "tokenizer.push_to_hub(str(default_config['model_name'] + '-best'), use_temp_dir=True)\n"
      ],
      "metadata": {
        "id": "xbxO30JPGqco"
      },
      "execution_count": null,
      "outputs": []
    },
    {
      "cell_type": "markdown",
      "source": [
        "[Volver al índice](#Index)\n",
        "# <font color='orange'> Análisis descriptivo </font>\n",
        "Se realiza un análisis descriptivo básico, que incluye: \n",
        "\n",
        "*   Variabilidad de los anotadores\n",
        "*   Probabilidad de clickbait en función del número de palabras por tweet\n",
        "*   Probabilidad de que la palabra pertenezca a un clickbait\n"
      ],
      "metadata": {
        "id": "2M41qt0tZliB"
      }
    },
    {
      "cell_type": "code",
      "source": [
        "#descriptive_config = default_config\n",
        "#descriptive_config['do_descriptive_analysis'] = True\n",
        "\n",
        "#pipeline(p=descriptive_config)"
      ],
      "metadata": {
        "id": "2Ag_ldG7dWXR"
      },
      "execution_count": null,
      "outputs": []
    },
    {
      "cell_type": "markdown",
      "source": [
        "<font color='lightgreen'> Variabilidad de los anotadores </font>\n",
        "\n",
        "Resulta interesante observar la variación de las puntuaciones del conjunto de anotadores para cada tweet. Esto puede representarse como un diagrama de cajas de la desviación típica de las puntuaciones.\n",
        "\n",
        "A la vista de los datos, los anotadores no tienen un consenso muy definido entre sus valoraciones, lo cual podría resultar en confusiones a la hora de entrenar la red neuronal. \n",
        "\n",
        "Dado que los mayores valores de desviación típica implica que la correspondiente media está relativamente centrada (uno de los dos casos de mayor desviación típica sería el conjunto de puntuaciones [1, 1, 1, 0, 0], con media = 0.6 y desviación típica ~0.49), resulta relativamente seguro eliminar aquellos datos cuya media de las puntuaciones se encuentre cercana a 0.5.\n",
        "\n",
        "Esto además nos permite descartar tweets con conjuntos de puntuaciones no polarizados, por ejemplo [0.66, 0.66, 0.66, 0.33, 0.33]. Aunque dicho tweet se considere clickbait, el conjunto de los anotadores no tiene certeza de ello, y puede provocar errores de clasificación durante el entrenamiento.\n",
        "\n",
        "La cantidad de datos a descartar se tomará como un hiperparámetro. Esto puede perjudicar en que hay un menor número de datos que entrenar, por lo que no resulta obvio que vaya a mejorar el modelo. Por lo tanto, la cantidad de datos a descartar se tomará como un hiperparámetro.\n",
        "\n",
        "*Nota: Esta idea proviene de este proyecto: [Click-BERT: Clickbait Detector with Bidirectional Encoder Representations\n",
        "from Transformers](https://github.com/PeterQiu0516/Click-BERT/blob/main/Final-Report/EECS498NLP_Project_Final_Report.pdf)*, donde aseguran que mejoran las predicciones.\n",
        "\n"
      ],
      "metadata": {
        "id": "V13lMtm8wECC"
      }
    },
    {
      "cell_type": "markdown",
      "source": [
        "<font color='lightgreen'> Probabilidad de clickbait en función del número de palabras por tweet </font>\n",
        "\n",
        "A la vista de la gráfica, podemos observar que la mayoría de tweets con un número de palabras muy bajo suele ser clickbait, y dicha probabilidad tiende a reducirse generalizadamente conforme aumenta el número de palabras. "
      ],
      "metadata": {
        "id": "oyhlkPdmff7h"
      }
    },
    {
      "cell_type": "markdown",
      "source": [
        "<font color='lightgreen'> Probabilidad de que la palabra aparezca en un clickbait </font>\n",
        "\n",
        "Estos resultados no resultan muy reveladores, pero dan pequeñas pistas de qué se puede considerar legítimo y qué puede considerarse clickbait.\n",
        "\n",
        "Por ejemplo, entre las palabras que más aparecen en los tweets que son clickbaits aparecen apelativos al lector 'you'/'your', preguntas 'what'/'why' y adjetivos demostrativos 'this'/'these'. \n",
        "\n",
        "En el caso de tweets legítimos, parece que tiende a poseer palabras menos ambiguas, tales como 'u.s.'/'police'/'trump'/'president'.\n",
        "\n",
        "Igualmente hay clasificaciones extrañas. Por ejemplo, 'says' se ha catalogado como una palabra que se usa mucho en tweets legítimos, cuando es una palabra que puede recordar a un clickbait."
      ],
      "metadata": {
        "id": "nf470WCoxD5g"
      }
    },
    {
      "cell_type": "markdown",
      "source": [
        "# <font color='orange'> Hugging Face dataset y tokenización </font>"
      ],
      "metadata": {
        "id": "z0X6DOuJnlLU"
      }
    },
    {
      "cell_type": "code",
      "source": [
        "torch.cuda.empty_cache()"
      ],
      "metadata": {
        "id": "ykO0Ojc985fi"
      },
      "execution_count": null,
      "outputs": []
    }
  ]
}